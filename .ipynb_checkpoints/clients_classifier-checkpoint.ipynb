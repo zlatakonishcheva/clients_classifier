{
 "cells": [
  {
   "cell_type": "markdown",
   "metadata": {},
   "source": [
    "# Прогнозирование поведения клиента оператора связи"
   ]
  },
  {
   "cell_type": "markdown",
   "metadata": {},
   "source": [
    "## Описание проекта и его цель"
   ]
  },
  {
   "cell_type": "markdown",
   "metadata": {},
   "source": [
    "Оператор связи «Ниединогоразрыва.ком» хочет научиться прогнозировать отток клиентов. Если выяснится, что пользователь планирует уйти, ему будут предложены промокоды и специальные условия. Команда оператора собрала персональные данные о некоторых клиентах, информацию об их тарифах и договорах.\n",
    "\n",
    "Задача проекта состоит в том, чтобы найти модель, способную наилучшим образом предсказать поведение клиента, метрика качества -- AUC-ROC."
   ]
  },
  {
   "cell_type": "markdown",
   "metadata": {},
   "source": [
    "## Описание услуг"
   ]
  },
  {
   "cell_type": "markdown",
   "metadata": {},
   "source": [
    "Оператор предоставляет два основных типа услуг: \n",
    "\n",
    "1. Стационарную телефонную связь. Возможно подключение телефонного аппарата к нескольким линиям одновременно.\n",
    "2. Интернет. Подключение может быть двух типов: через телефонную линию (DSL*,* от англ. *digital subscriber line*, «цифровая абонентская линия») или оптоволоконный кабель (*Fiber optic*)."
   ]
  },
  {
   "cell_type": "markdown",
   "metadata": {},
   "source": [
    "Также доступны такие услуги:\n",
    "\n",
    "- Интернет-безопасность: антивирус (*DeviceProtection*) и блокировка небезопасных сайтов (*OnlineSecurity*);\n",
    "- Выделенная линия технической поддержки (*TechSupport*);\n",
    "- Облачное хранилище файлов для резервного копирования данных (*OnlineBackup*);\n",
    "- Стриминговое телевидение (*StreamingTV*) и каталог фильмов (*StreamingMovies*).\n",
    "\n",
    "За услуги клиенты могут платить каждый месяц или заключить договор на 1–2 года. Доступны различные способы расчёта и возможность получения электронного чека."
   ]
  },
  {
   "cell_type": "markdown",
   "metadata": {},
   "source": [
    "## Описание данных"
   ]
  },
  {
   "cell_type": "markdown",
   "metadata": {},
   "source": [
    "Данные состоят из файлов, полученных из разных источников:\n",
    "\n",
    "- `contract.csv` — информация о договоре;\n",
    "- `personal.csv` — персональные данные клиента;\n",
    "- `internet.csv` — информация об интернет-услугах;\n",
    "- `phone.csv` — информация об услугах телефонии.\n",
    "\n",
    "Во всех файлах столбец `customerID` содержит код клиента.\n",
    "\n",
    "Информация о договорах актуальна на 1 февраля 2020."
   ]
  },
  {
   "cell_type": "markdown",
   "metadata": {},
   "source": [
    "## Загрузка и подготовка данных"
   ]
  },
  {
   "cell_type": "markdown",
   "metadata": {},
   "source": [
    "Подлючаем необходимые библиотеки."
   ]
  },
  {
   "cell_type": "code",
   "execution_count": 1,
   "metadata": {},
   "outputs": [],
   "source": [
    "import pandas as pd\n",
    "import warnings\n",
    "warnings.filterwarnings('ignore')\n",
    "\n",
    "import seaborn as sns\n",
    "import numpy as np\n",
    "import matplotlib.pyplot as plt\n",
    "\n",
    "from scipy import stats as st\n",
    "\n",
    "from sklearn.model_selection import train_test_split\n",
    "from sklearn.utils import shuffle\n",
    "\n",
    "from sklearn.tree import DecisionTreeClassifier\n",
    "from sklearn.ensemble import RandomForestClassifier\n",
    "from sklearn.linear_model import LogisticRegression\n",
    "from catboost import CatBoostClassifier\n",
    "\n",
    "from sklearn.metrics import roc_auc_score\n",
    "from sklearn.metrics import accuracy_score"
   ]
  },
  {
   "cell_type": "markdown",
   "metadata": {},
   "source": [
    "Импортируем необходимые датасеты методом read_csv(), выводим общую информацию методами info() и describe(), выведем первые 5 строк датафрейма методом sample(). Также проводим проверку данных на наличие пропусков и дубликатов."
   ]
  },
  {
   "cell_type": "markdown",
   "metadata": {},
   "source": [
    "### Информация о договоре"
   ]
  },
  {
   "cell_type": "code",
   "execution_count": 2,
   "metadata": {},
   "outputs": [
    {
     "name": "stdout",
     "output_type": "stream",
     "text": [
      "<class 'pandas.core.frame.DataFrame'>\n",
      "RangeIndex: 7043 entries, 0 to 7042\n",
      "Data columns (total 8 columns):\n",
      "customerID          7043 non-null object\n",
      "BeginDate           7043 non-null object\n",
      "EndDate             7043 non-null object\n",
      "Type                7043 non-null object\n",
      "PaperlessBilling    7043 non-null object\n",
      "PaymentMethod       7043 non-null object\n",
      "MonthlyCharges      7043 non-null float64\n",
      "TotalCharges        7043 non-null object\n",
      "dtypes: float64(1), object(7)\n",
      "memory usage: 440.3+ KB\n"
     ]
    },
    {
     "data": {
      "text/html": [
       "<div>\n",
       "<style scoped>\n",
       "    .dataframe tbody tr th:only-of-type {\n",
       "        vertical-align: middle;\n",
       "    }\n",
       "\n",
       "    .dataframe tbody tr th {\n",
       "        vertical-align: top;\n",
       "    }\n",
       "\n",
       "    .dataframe thead th {\n",
       "        text-align: right;\n",
       "    }\n",
       "</style>\n",
       "<table border=\"1\" class=\"dataframe\">\n",
       "  <thead>\n",
       "    <tr style=\"text-align: right;\">\n",
       "      <th></th>\n",
       "      <th>customerID</th>\n",
       "      <th>BeginDate</th>\n",
       "      <th>EndDate</th>\n",
       "      <th>Type</th>\n",
       "      <th>PaperlessBilling</th>\n",
       "      <th>PaymentMethod</th>\n",
       "      <th>MonthlyCharges</th>\n",
       "      <th>TotalCharges</th>\n",
       "    </tr>\n",
       "  </thead>\n",
       "  <tbody>\n",
       "    <tr>\n",
       "      <td>1128</td>\n",
       "      <td>0098-BOWSO</td>\n",
       "      <td>2017-11-01</td>\n",
       "      <td>No</td>\n",
       "      <td>Month-to-month</td>\n",
       "      <td>Yes</td>\n",
       "      <td>Electronic check</td>\n",
       "      <td>19.40</td>\n",
       "      <td>529.8</td>\n",
       "    </tr>\n",
       "    <tr>\n",
       "      <td>2875</td>\n",
       "      <td>9992-RRAMN</td>\n",
       "      <td>2018-02-01</td>\n",
       "      <td>2019-12-01 00:00:00</td>\n",
       "      <td>Month-to-month</td>\n",
       "      <td>Yes</td>\n",
       "      <td>Electronic check</td>\n",
       "      <td>85.10</td>\n",
       "      <td>1873.7</td>\n",
       "    </tr>\n",
       "    <tr>\n",
       "      <td>1783</td>\n",
       "      <td>8380-PEFPE</td>\n",
       "      <td>2019-09-01</td>\n",
       "      <td>2019-10-01 00:00:00</td>\n",
       "      <td>Month-to-month</td>\n",
       "      <td>Yes</td>\n",
       "      <td>Electronic check</td>\n",
       "      <td>71.65</td>\n",
       "      <td>71.65</td>\n",
       "    </tr>\n",
       "    <tr>\n",
       "      <td>3804</td>\n",
       "      <td>9773-PEQBZ</td>\n",
       "      <td>2019-04-01</td>\n",
       "      <td>No</td>\n",
       "      <td>Month-to-month</td>\n",
       "      <td>No</td>\n",
       "      <td>Electronic check</td>\n",
       "      <td>79.85</td>\n",
       "      <td>797.25</td>\n",
       "    </tr>\n",
       "    <tr>\n",
       "      <td>6087</td>\n",
       "      <td>8319-QBEHW</td>\n",
       "      <td>2017-12-01</td>\n",
       "      <td>No</td>\n",
       "      <td>One year</td>\n",
       "      <td>Yes</td>\n",
       "      <td>Bank transfer (automatic)</td>\n",
       "      <td>39.95</td>\n",
       "      <td>1023.75</td>\n",
       "    </tr>\n",
       "    <tr>\n",
       "      <td>2071</td>\n",
       "      <td>3392-EHMNK</td>\n",
       "      <td>2014-07-01</td>\n",
       "      <td>No</td>\n",
       "      <td>Two year</td>\n",
       "      <td>No</td>\n",
       "      <td>Credit card (automatic)</td>\n",
       "      <td>94.10</td>\n",
       "      <td>6302.8</td>\n",
       "    </tr>\n",
       "    <tr>\n",
       "      <td>2395</td>\n",
       "      <td>6486-LHTMA</td>\n",
       "      <td>2017-07-01</td>\n",
       "      <td>No</td>\n",
       "      <td>One year</td>\n",
       "      <td>Yes</td>\n",
       "      <td>Electronic check</td>\n",
       "      <td>90.70</td>\n",
       "      <td>2835.5</td>\n",
       "    </tr>\n",
       "    <tr>\n",
       "      <td>4660</td>\n",
       "      <td>0883-EIBTI</td>\n",
       "      <td>2019-10-01</td>\n",
       "      <td>2019-12-01 00:00:00</td>\n",
       "      <td>Month-to-month</td>\n",
       "      <td>No</td>\n",
       "      <td>Mailed check</td>\n",
       "      <td>19.50</td>\n",
       "      <td>31.55</td>\n",
       "    </tr>\n",
       "    <tr>\n",
       "      <td>372</td>\n",
       "      <td>6122-EFVKN</td>\n",
       "      <td>2018-02-01</td>\n",
       "      <td>No</td>\n",
       "      <td>Two year</td>\n",
       "      <td>No</td>\n",
       "      <td>Mailed check</td>\n",
       "      <td>35.75</td>\n",
       "      <td>830.8</td>\n",
       "    </tr>\n",
       "    <tr>\n",
       "      <td>1143</td>\n",
       "      <td>2446-ZKVAF</td>\n",
       "      <td>2018-08-01</td>\n",
       "      <td>No</td>\n",
       "      <td>Month-to-month</td>\n",
       "      <td>No</td>\n",
       "      <td>Credit card (automatic)</td>\n",
       "      <td>56.80</td>\n",
       "      <td>1074.65</td>\n",
       "    </tr>\n",
       "  </tbody>\n",
       "</table>\n",
       "</div>"
      ],
      "text/plain": [
       "      customerID   BeginDate              EndDate            Type  \\\n",
       "1128  0098-BOWSO  2017-11-01                   No  Month-to-month   \n",
       "2875  9992-RRAMN  2018-02-01  2019-12-01 00:00:00  Month-to-month   \n",
       "1783  8380-PEFPE  2019-09-01  2019-10-01 00:00:00  Month-to-month   \n",
       "3804  9773-PEQBZ  2019-04-01                   No  Month-to-month   \n",
       "6087  8319-QBEHW  2017-12-01                   No        One year   \n",
       "2071  3392-EHMNK  2014-07-01                   No        Two year   \n",
       "2395  6486-LHTMA  2017-07-01                   No        One year   \n",
       "4660  0883-EIBTI  2019-10-01  2019-12-01 00:00:00  Month-to-month   \n",
       "372   6122-EFVKN  2018-02-01                   No        Two year   \n",
       "1143  2446-ZKVAF  2018-08-01                   No  Month-to-month   \n",
       "\n",
       "     PaperlessBilling              PaymentMethod  MonthlyCharges TotalCharges  \n",
       "1128              Yes           Electronic check           19.40        529.8  \n",
       "2875              Yes           Electronic check           85.10       1873.7  \n",
       "1783              Yes           Electronic check           71.65        71.65  \n",
       "3804               No           Electronic check           79.85       797.25  \n",
       "6087              Yes  Bank transfer (automatic)           39.95      1023.75  \n",
       "2071               No    Credit card (automatic)           94.10       6302.8  \n",
       "2395              Yes           Electronic check           90.70       2835.5  \n",
       "4660               No               Mailed check           19.50        31.55  \n",
       "372                No               Mailed check           35.75        830.8  \n",
       "1143               No    Credit card (automatic)           56.80      1074.65  "
      ]
     },
     "execution_count": 2,
     "metadata": {},
     "output_type": "execute_result"
    }
   ],
   "source": [
    "contract = pd.read_csv('/datasets/final_provider/contract.csv')\n",
    "contract.info()\n",
    "contract.sample(10, random_state = 12345)"
   ]
  },
  {
   "cell_type": "code",
   "execution_count": 3,
   "metadata": {},
   "outputs": [
    {
     "data": {
      "text/html": [
       "<div>\n",
       "<style scoped>\n",
       "    .dataframe tbody tr th:only-of-type {\n",
       "        vertical-align: middle;\n",
       "    }\n",
       "\n",
       "    .dataframe tbody tr th {\n",
       "        vertical-align: top;\n",
       "    }\n",
       "\n",
       "    .dataframe thead th {\n",
       "        text-align: right;\n",
       "    }\n",
       "</style>\n",
       "<table border=\"1\" class=\"dataframe\">\n",
       "  <thead>\n",
       "    <tr style=\"text-align: right;\">\n",
       "      <th></th>\n",
       "      <th>MonthlyCharges</th>\n",
       "    </tr>\n",
       "  </thead>\n",
       "  <tbody>\n",
       "    <tr>\n",
       "      <td>count</td>\n",
       "      <td>7043.000000</td>\n",
       "    </tr>\n",
       "    <tr>\n",
       "      <td>mean</td>\n",
       "      <td>64.761692</td>\n",
       "    </tr>\n",
       "    <tr>\n",
       "      <td>std</td>\n",
       "      <td>30.090047</td>\n",
       "    </tr>\n",
       "    <tr>\n",
       "      <td>min</td>\n",
       "      <td>18.250000</td>\n",
       "    </tr>\n",
       "    <tr>\n",
       "      <td>25%</td>\n",
       "      <td>35.500000</td>\n",
       "    </tr>\n",
       "    <tr>\n",
       "      <td>50%</td>\n",
       "      <td>70.350000</td>\n",
       "    </tr>\n",
       "    <tr>\n",
       "      <td>75%</td>\n",
       "      <td>89.850000</td>\n",
       "    </tr>\n",
       "    <tr>\n",
       "      <td>max</td>\n",
       "      <td>118.750000</td>\n",
       "    </tr>\n",
       "  </tbody>\n",
       "</table>\n",
       "</div>"
      ],
      "text/plain": [
       "       MonthlyCharges\n",
       "count     7043.000000\n",
       "mean        64.761692\n",
       "std         30.090047\n",
       "min         18.250000\n",
       "25%         35.500000\n",
       "50%         70.350000\n",
       "75%         89.850000\n",
       "max        118.750000"
      ]
     },
     "execution_count": 3,
     "metadata": {},
     "output_type": "execute_result"
    }
   ],
   "source": [
    "contract.describe()"
   ]
  },
  {
   "cell_type": "code",
   "execution_count": 4,
   "metadata": {},
   "outputs": [
    {
     "data": {
      "text/plain": [
       "0"
      ]
     },
     "execution_count": 4,
     "metadata": {},
     "output_type": "execute_result"
    }
   ],
   "source": [
    "contract.duplicated().sum()"
   ]
  },
  {
   "cell_type": "code",
   "execution_count": 5,
   "metadata": {},
   "outputs": [
    {
     "data": {
      "text/plain": [
       "customerID          0\n",
       "BeginDate           0\n",
       "EndDate             0\n",
       "Type                0\n",
       "PaperlessBilling    0\n",
       "PaymentMethod       0\n",
       "MonthlyCharges      0\n",
       "TotalCharges        0\n",
       "dtype: int64"
      ]
     },
     "execution_count": 5,
     "metadata": {},
     "output_type": "execute_result"
    }
   ],
   "source": [
    "contract.isna().sum()"
   ]
  },
  {
   "cell_type": "markdown",
   "metadata": {},
   "source": [
    "Приведем столбцы BeginDate, TotalCharges и PaperlessBilling к нужным типам, посчитаем, сколько клиент пользовался услугами, после чего удалим исходный столбец, так как в будущем он излишен для построения моделей (она переучится). Также обрабатываем целевой признак, приведя его к более удобному формату (0 -- клиент не ушел, 1 -- клиент ушел)."
   ]
  },
  {
   "cell_type": "code",
   "execution_count": 6,
   "metadata": {},
   "outputs": [],
   "source": [
    "contract.loc[contract['EndDate'] == 'No', 'EndDate'] = '2020-02-01'\n",
    "contract['EndDate'] = pd.to_datetime(contract['EndDate'], format = '%Y-%m-%d')\n",
    "contract['BeginDate'] = pd.to_datetime(contract['BeginDate'], format = '%Y-%m-%d')\n",
    "contract['DayLong'] = (contract['EndDate'] - contract['BeginDate']).dt.days"
   ]
  },
  {
   "cell_type": "code",
   "execution_count": 7,
   "metadata": {},
   "outputs": [],
   "source": [
    "contract.drop('BeginDate', axis = 1, inplace = True)\n",
    "contract.loc[contract['EndDate'] == '2020-02-01', 'EndDate'] = 0\n",
    "contract.loc[contract['EndDate'] != 0, 'EndDate'] = 1"
   ]
  },
  {
   "cell_type": "code",
   "execution_count": 8,
   "metadata": {},
   "outputs": [],
   "source": [
    "contract['MonthlyCharges'] = contract['MonthlyCharges'].astype('int64')\n",
    "\n",
    "contract['TotalCharges'] = pd.to_numeric(contract['TotalCharges'], errors = 'coerce')\n",
    "contract['TotalCharges'] = contract['TotalCharges'].fillna(contract['TotalCharges'].median())\n",
    "contract['TotalCharges'] = contract['TotalCharges'].astype('int64')"
   ]
  },
  {
   "cell_type": "code",
   "execution_count": 9,
   "metadata": {},
   "outputs": [
    {
     "data": {
      "text/html": [
       "<div>\n",
       "<style scoped>\n",
       "    .dataframe tbody tr th:only-of-type {\n",
       "        vertical-align: middle;\n",
       "    }\n",
       "\n",
       "    .dataframe tbody tr th {\n",
       "        vertical-align: top;\n",
       "    }\n",
       "\n",
       "    .dataframe thead th {\n",
       "        text-align: right;\n",
       "    }\n",
       "</style>\n",
       "<table border=\"1\" class=\"dataframe\">\n",
       "  <thead>\n",
       "    <tr style=\"text-align: right;\">\n",
       "      <th></th>\n",
       "      <th>customerID</th>\n",
       "      <th>EndDate</th>\n",
       "      <th>Type</th>\n",
       "      <th>PaperlessBilling</th>\n",
       "      <th>PaymentMethod</th>\n",
       "      <th>MonthlyCharges</th>\n",
       "      <th>TotalCharges</th>\n",
       "      <th>DayLong</th>\n",
       "    </tr>\n",
       "  </thead>\n",
       "  <tbody>\n",
       "    <tr>\n",
       "      <td>1128</td>\n",
       "      <td>0098-BOWSO</td>\n",
       "      <td>0</td>\n",
       "      <td>Month-to-month</td>\n",
       "      <td>Yes</td>\n",
       "      <td>Electronic check</td>\n",
       "      <td>19</td>\n",
       "      <td>529</td>\n",
       "      <td>822</td>\n",
       "    </tr>\n",
       "    <tr>\n",
       "      <td>2875</td>\n",
       "      <td>9992-RRAMN</td>\n",
       "      <td>1</td>\n",
       "      <td>Month-to-month</td>\n",
       "      <td>Yes</td>\n",
       "      <td>Electronic check</td>\n",
       "      <td>85</td>\n",
       "      <td>1873</td>\n",
       "      <td>668</td>\n",
       "    </tr>\n",
       "    <tr>\n",
       "      <td>1783</td>\n",
       "      <td>8380-PEFPE</td>\n",
       "      <td>1</td>\n",
       "      <td>Month-to-month</td>\n",
       "      <td>Yes</td>\n",
       "      <td>Electronic check</td>\n",
       "      <td>71</td>\n",
       "      <td>71</td>\n",
       "      <td>30</td>\n",
       "    </tr>\n",
       "    <tr>\n",
       "      <td>3804</td>\n",
       "      <td>9773-PEQBZ</td>\n",
       "      <td>0</td>\n",
       "      <td>Month-to-month</td>\n",
       "      <td>No</td>\n",
       "      <td>Electronic check</td>\n",
       "      <td>79</td>\n",
       "      <td>797</td>\n",
       "      <td>306</td>\n",
       "    </tr>\n",
       "    <tr>\n",
       "      <td>6087</td>\n",
       "      <td>8319-QBEHW</td>\n",
       "      <td>0</td>\n",
       "      <td>One year</td>\n",
       "      <td>Yes</td>\n",
       "      <td>Bank transfer (automatic)</td>\n",
       "      <td>39</td>\n",
       "      <td>1023</td>\n",
       "      <td>792</td>\n",
       "    </tr>\n",
       "  </tbody>\n",
       "</table>\n",
       "</div>"
      ],
      "text/plain": [
       "      customerID  EndDate            Type PaperlessBilling  \\\n",
       "1128  0098-BOWSO        0  Month-to-month              Yes   \n",
       "2875  9992-RRAMN        1  Month-to-month              Yes   \n",
       "1783  8380-PEFPE        1  Month-to-month              Yes   \n",
       "3804  9773-PEQBZ        0  Month-to-month               No   \n",
       "6087  8319-QBEHW        0        One year              Yes   \n",
       "\n",
       "                  PaymentMethod  MonthlyCharges  TotalCharges  DayLong  \n",
       "1128           Electronic check              19           529      822  \n",
       "2875           Electronic check              85          1873      668  \n",
       "1783           Electronic check              71            71       30  \n",
       "3804           Electronic check              79           797      306  \n",
       "6087  Bank transfer (automatic)              39          1023      792  "
      ]
     },
     "execution_count": 9,
     "metadata": {},
     "output_type": "execute_result"
    }
   ],
   "source": [
    "contract.sample(5, random_state = 12345)"
   ]
  },
  {
   "cell_type": "markdown",
   "metadata": {},
   "source": [
    "#### Вывод"
   ]
  },
  {
   "cell_type": "markdown",
   "metadata": {},
   "source": [
    "Информация о договоре была импортирована методом read_csv() в переменную contract, по общей информации, полученной с помощью методов info(), describe(), duplicated(), isna() можно сделать вывод, что данные не содержат дубликатов и пропусков. Также выбло установленно, что столбцы BeginDate, TotalCharges, PaperlessBilling имеют неверные типы, что было исправлено различными методами, было посчитано, сколько дней клиент пользовался услугами, после чего удалим исходный столбец, так как в будущем он излишен для построения моделей (она переучится). Также обрабатываем целевой признак, приведя его к более удобному формату (0 -- клиент не ушел, 1 -- клиент ушел). \n",
    "\n",
    "Таким образом, данные подготовленны к дальнецшему анализу."
   ]
  },
  {
   "cell_type": "markdown",
   "metadata": {},
   "source": [
    "### Персональные данные клиента"
   ]
  },
  {
   "cell_type": "code",
   "execution_count": 10,
   "metadata": {},
   "outputs": [
    {
     "name": "stdout",
     "output_type": "stream",
     "text": [
      "<class 'pandas.core.frame.DataFrame'>\n",
      "RangeIndex: 7043 entries, 0 to 7042\n",
      "Data columns (total 5 columns):\n",
      "customerID       7043 non-null object\n",
      "gender           7043 non-null object\n",
      "SeniorCitizen    7043 non-null int64\n",
      "Partner          7043 non-null object\n",
      "Dependents       7043 non-null object\n",
      "dtypes: int64(1), object(4)\n",
      "memory usage: 275.2+ KB\n"
     ]
    },
    {
     "data": {
      "text/html": [
       "<div>\n",
       "<style scoped>\n",
       "    .dataframe tbody tr th:only-of-type {\n",
       "        vertical-align: middle;\n",
       "    }\n",
       "\n",
       "    .dataframe tbody tr th {\n",
       "        vertical-align: top;\n",
       "    }\n",
       "\n",
       "    .dataframe thead th {\n",
       "        text-align: right;\n",
       "    }\n",
       "</style>\n",
       "<table border=\"1\" class=\"dataframe\">\n",
       "  <thead>\n",
       "    <tr style=\"text-align: right;\">\n",
       "      <th></th>\n",
       "      <th>customerID</th>\n",
       "      <th>gender</th>\n",
       "      <th>SeniorCitizen</th>\n",
       "      <th>Partner</th>\n",
       "      <th>Dependents</th>\n",
       "    </tr>\n",
       "  </thead>\n",
       "  <tbody>\n",
       "    <tr>\n",
       "      <td>1128</td>\n",
       "      <td>0098-BOWSO</td>\n",
       "      <td>Male</td>\n",
       "      <td>0</td>\n",
       "      <td>No</td>\n",
       "      <td>No</td>\n",
       "    </tr>\n",
       "    <tr>\n",
       "      <td>2875</td>\n",
       "      <td>9992-RRAMN</td>\n",
       "      <td>Male</td>\n",
       "      <td>0</td>\n",
       "      <td>Yes</td>\n",
       "      <td>No</td>\n",
       "    </tr>\n",
       "    <tr>\n",
       "      <td>1783</td>\n",
       "      <td>8380-PEFPE</td>\n",
       "      <td>Male</td>\n",
       "      <td>0</td>\n",
       "      <td>No</td>\n",
       "      <td>Yes</td>\n",
       "    </tr>\n",
       "    <tr>\n",
       "      <td>3804</td>\n",
       "      <td>9773-PEQBZ</td>\n",
       "      <td>Male</td>\n",
       "      <td>0</td>\n",
       "      <td>No</td>\n",
       "      <td>No</td>\n",
       "    </tr>\n",
       "    <tr>\n",
       "      <td>6087</td>\n",
       "      <td>8319-QBEHW</td>\n",
       "      <td>Male</td>\n",
       "      <td>0</td>\n",
       "      <td>No</td>\n",
       "      <td>Yes</td>\n",
       "    </tr>\n",
       "    <tr>\n",
       "      <td>2071</td>\n",
       "      <td>3392-EHMNK</td>\n",
       "      <td>Female</td>\n",
       "      <td>0</td>\n",
       "      <td>Yes</td>\n",
       "      <td>Yes</td>\n",
       "    </tr>\n",
       "    <tr>\n",
       "      <td>2395</td>\n",
       "      <td>6486-LHTMA</td>\n",
       "      <td>Female</td>\n",
       "      <td>1</td>\n",
       "      <td>Yes</td>\n",
       "      <td>No</td>\n",
       "    </tr>\n",
       "    <tr>\n",
       "      <td>4660</td>\n",
       "      <td>0883-EIBTI</td>\n",
       "      <td>Female</td>\n",
       "      <td>0</td>\n",
       "      <td>No</td>\n",
       "      <td>No</td>\n",
       "    </tr>\n",
       "    <tr>\n",
       "      <td>372</td>\n",
       "      <td>6122-EFVKN</td>\n",
       "      <td>Male</td>\n",
       "      <td>0</td>\n",
       "      <td>No</td>\n",
       "      <td>Yes</td>\n",
       "    </tr>\n",
       "    <tr>\n",
       "      <td>1143</td>\n",
       "      <td>2446-ZKVAF</td>\n",
       "      <td>Male</td>\n",
       "      <td>0</td>\n",
       "      <td>Yes</td>\n",
       "      <td>No</td>\n",
       "    </tr>\n",
       "  </tbody>\n",
       "</table>\n",
       "</div>"
      ],
      "text/plain": [
       "      customerID  gender  SeniorCitizen Partner Dependents\n",
       "1128  0098-BOWSO    Male              0      No         No\n",
       "2875  9992-RRAMN    Male              0     Yes         No\n",
       "1783  8380-PEFPE    Male              0      No        Yes\n",
       "3804  9773-PEQBZ    Male              0      No         No\n",
       "6087  8319-QBEHW    Male              0      No        Yes\n",
       "2071  3392-EHMNK  Female              0     Yes        Yes\n",
       "2395  6486-LHTMA  Female              1     Yes         No\n",
       "4660  0883-EIBTI  Female              0      No         No\n",
       "372   6122-EFVKN    Male              0      No        Yes\n",
       "1143  2446-ZKVAF    Male              0     Yes         No"
      ]
     },
     "execution_count": 10,
     "metadata": {},
     "output_type": "execute_result"
    }
   ],
   "source": [
    "personal = pd.read_csv('/datasets/final_provider/personal.csv')\n",
    "personal.info()\n",
    "personal.sample(10, random_state = 12345)"
   ]
  },
  {
   "cell_type": "code",
   "execution_count": 11,
   "metadata": {},
   "outputs": [
    {
     "data": {
      "text/plain": [
       "0"
      ]
     },
     "execution_count": 11,
     "metadata": {},
     "output_type": "execute_result"
    }
   ],
   "source": [
    "personal.duplicated().sum()"
   ]
  },
  {
   "cell_type": "code",
   "execution_count": 12,
   "metadata": {},
   "outputs": [
    {
     "data": {
      "text/plain": [
       "customerID       0\n",
       "gender           0\n",
       "SeniorCitizen    0\n",
       "Partner          0\n",
       "Dependents       0\n",
       "dtype: int64"
      ]
     },
     "execution_count": 12,
     "metadata": {},
     "output_type": "execute_result"
    }
   ],
   "source": [
    "personal.isna().sum()"
   ]
  },
  {
   "cell_type": "markdown",
   "metadata": {},
   "source": [
    "#### Вывод"
   ]
  },
  {
   "cell_type": "markdown",
   "metadata": {},
   "source": [
    "Персональные данные клиента были импортированны методом read_csv() в переменную personal, по общей информации, полученной с помощью методов info(), duplicated(), isna() можно сделать вывод, что данные корректны, не содержат дубликатов и пропусков и не нуждаются в дополнительной предобработке."
   ]
  },
  {
   "cell_type": "markdown",
   "metadata": {},
   "source": [
    "### Информация об интернет-услугах"
   ]
  },
  {
   "cell_type": "code",
   "execution_count": 13,
   "metadata": {
    "scrolled": false
   },
   "outputs": [
    {
     "name": "stdout",
     "output_type": "stream",
     "text": [
      "<class 'pandas.core.frame.DataFrame'>\n",
      "RangeIndex: 5517 entries, 0 to 5516\n",
      "Data columns (total 8 columns):\n",
      "customerID          5517 non-null object\n",
      "InternetService     5517 non-null object\n",
      "OnlineSecurity      5517 non-null object\n",
      "OnlineBackup        5517 non-null object\n",
      "DeviceProtection    5517 non-null object\n",
      "TechSupport         5517 non-null object\n",
      "StreamingTV         5517 non-null object\n",
      "StreamingMovies     5517 non-null object\n",
      "dtypes: object(8)\n",
      "memory usage: 344.9+ KB\n"
     ]
    },
    {
     "data": {
      "text/html": [
       "<div>\n",
       "<style scoped>\n",
       "    .dataframe tbody tr th:only-of-type {\n",
       "        vertical-align: middle;\n",
       "    }\n",
       "\n",
       "    .dataframe tbody tr th {\n",
       "        vertical-align: top;\n",
       "    }\n",
       "\n",
       "    .dataframe thead th {\n",
       "        text-align: right;\n",
       "    }\n",
       "</style>\n",
       "<table border=\"1\" class=\"dataframe\">\n",
       "  <thead>\n",
       "    <tr style=\"text-align: right;\">\n",
       "      <th></th>\n",
       "      <th>customerID</th>\n",
       "      <th>InternetService</th>\n",
       "      <th>OnlineSecurity</th>\n",
       "      <th>OnlineBackup</th>\n",
       "      <th>DeviceProtection</th>\n",
       "      <th>TechSupport</th>\n",
       "      <th>StreamingTV</th>\n",
       "      <th>StreamingMovies</th>\n",
       "    </tr>\n",
       "  </thead>\n",
       "  <tbody>\n",
       "    <tr>\n",
       "      <td>4878</td>\n",
       "      <td>7823-JSOAG</td>\n",
       "      <td>Fiber optic</td>\n",
       "      <td>No</td>\n",
       "      <td>No</td>\n",
       "      <td>No</td>\n",
       "      <td>No</td>\n",
       "      <td>No</td>\n",
       "      <td>No</td>\n",
       "    </tr>\n",
       "    <tr>\n",
       "      <td>5002</td>\n",
       "      <td>4450-YOOHP</td>\n",
       "      <td>DSL</td>\n",
       "      <td>No</td>\n",
       "      <td>No</td>\n",
       "      <td>Yes</td>\n",
       "      <td>No</td>\n",
       "      <td>Yes</td>\n",
       "      <td>Yes</td>\n",
       "    </tr>\n",
       "    <tr>\n",
       "      <td>4160</td>\n",
       "      <td>2498-XLDZR</td>\n",
       "      <td>DSL</td>\n",
       "      <td>Yes</td>\n",
       "      <td>Yes</td>\n",
       "      <td>Yes</td>\n",
       "      <td>Yes</td>\n",
       "      <td>No</td>\n",
       "      <td>Yes</td>\n",
       "    </tr>\n",
       "    <tr>\n",
       "      <td>683</td>\n",
       "      <td>7905-TVXTA</td>\n",
       "      <td>DSL</td>\n",
       "      <td>Yes</td>\n",
       "      <td>No</td>\n",
       "      <td>No</td>\n",
       "      <td>Yes</td>\n",
       "      <td>Yes</td>\n",
       "      <td>No</td>\n",
       "    </tr>\n",
       "    <tr>\n",
       "      <td>1930</td>\n",
       "      <td>9802-CAQUT</td>\n",
       "      <td>Fiber optic</td>\n",
       "      <td>Yes</td>\n",
       "      <td>Yes</td>\n",
       "      <td>Yes</td>\n",
       "      <td>No</td>\n",
       "      <td>Yes</td>\n",
       "      <td>Yes</td>\n",
       "    </tr>\n",
       "    <tr>\n",
       "      <td>2140</td>\n",
       "      <td>3387-VATUS</td>\n",
       "      <td>Fiber optic</td>\n",
       "      <td>No</td>\n",
       "      <td>No</td>\n",
       "      <td>No</td>\n",
       "      <td>No</td>\n",
       "      <td>Yes</td>\n",
       "      <td>Yes</td>\n",
       "    </tr>\n",
       "    <tr>\n",
       "      <td>2311</td>\n",
       "      <td>2845-AFFTX</td>\n",
       "      <td>Fiber optic</td>\n",
       "      <td>No</td>\n",
       "      <td>No</td>\n",
       "      <td>Yes</td>\n",
       "      <td>No</td>\n",
       "      <td>Yes</td>\n",
       "      <td>Yes</td>\n",
       "    </tr>\n",
       "    <tr>\n",
       "      <td>3417</td>\n",
       "      <td>0853-NWIFK</td>\n",
       "      <td>Fiber optic</td>\n",
       "      <td>Yes</td>\n",
       "      <td>Yes</td>\n",
       "      <td>No</td>\n",
       "      <td>No</td>\n",
       "      <td>Yes</td>\n",
       "      <td>Yes</td>\n",
       "    </tr>\n",
       "    <tr>\n",
       "      <td>1472</td>\n",
       "      <td>0973-KYVNF</td>\n",
       "      <td>DSL</td>\n",
       "      <td>Yes</td>\n",
       "      <td>Yes</td>\n",
       "      <td>Yes</td>\n",
       "      <td>No</td>\n",
       "      <td>Yes</td>\n",
       "      <td>No</td>\n",
       "    </tr>\n",
       "    <tr>\n",
       "      <td>4716</td>\n",
       "      <td>9253-QXKBE</td>\n",
       "      <td>Fiber optic</td>\n",
       "      <td>No</td>\n",
       "      <td>No</td>\n",
       "      <td>No</td>\n",
       "      <td>No</td>\n",
       "      <td>Yes</td>\n",
       "      <td>Yes</td>\n",
       "    </tr>\n",
       "  </tbody>\n",
       "</table>\n",
       "</div>"
      ],
      "text/plain": [
       "      customerID InternetService OnlineSecurity OnlineBackup DeviceProtection  \\\n",
       "4878  7823-JSOAG     Fiber optic             No           No               No   \n",
       "5002  4450-YOOHP             DSL             No           No              Yes   \n",
       "4160  2498-XLDZR             DSL            Yes          Yes              Yes   \n",
       "683   7905-TVXTA             DSL            Yes           No               No   \n",
       "1930  9802-CAQUT     Fiber optic            Yes          Yes              Yes   \n",
       "2140  3387-VATUS     Fiber optic             No           No               No   \n",
       "2311  2845-AFFTX     Fiber optic             No           No              Yes   \n",
       "3417  0853-NWIFK     Fiber optic            Yes          Yes               No   \n",
       "1472  0973-KYVNF             DSL            Yes          Yes              Yes   \n",
       "4716  9253-QXKBE     Fiber optic             No           No               No   \n",
       "\n",
       "     TechSupport StreamingTV StreamingMovies  \n",
       "4878          No          No              No  \n",
       "5002          No         Yes             Yes  \n",
       "4160         Yes          No             Yes  \n",
       "683          Yes         Yes              No  \n",
       "1930          No         Yes             Yes  \n",
       "2140          No         Yes             Yes  \n",
       "2311          No         Yes             Yes  \n",
       "3417          No         Yes             Yes  \n",
       "1472          No         Yes              No  \n",
       "4716          No         Yes             Yes  "
      ]
     },
     "execution_count": 13,
     "metadata": {},
     "output_type": "execute_result"
    }
   ],
   "source": [
    "internet = pd.read_csv('/datasets/final_provider/internet.csv')\n",
    "internet.info()\n",
    "internet.sample(10, random_state = 12345)"
   ]
  },
  {
   "cell_type": "code",
   "execution_count": 14,
   "metadata": {},
   "outputs": [
    {
     "data": {
      "text/plain": [
       "0"
      ]
     },
     "execution_count": 14,
     "metadata": {},
     "output_type": "execute_result"
    }
   ],
   "source": [
    "internet.duplicated().sum()"
   ]
  },
  {
   "cell_type": "code",
   "execution_count": 15,
   "metadata": {},
   "outputs": [
    {
     "data": {
      "text/plain": [
       "customerID          0\n",
       "InternetService     0\n",
       "OnlineSecurity      0\n",
       "OnlineBackup        0\n",
       "DeviceProtection    0\n",
       "TechSupport         0\n",
       "StreamingTV         0\n",
       "StreamingMovies     0\n",
       "dtype: int64"
      ]
     },
     "execution_count": 15,
     "metadata": {},
     "output_type": "execute_result"
    }
   ],
   "source": [
    "internet.isna().sum()"
   ]
  },
  {
   "cell_type": "markdown",
   "metadata": {},
   "source": [
    "Создаем дополнительный столбец InternetOption как индикатор подключения интернета."
   ]
  },
  {
   "cell_type": "code",
   "execution_count": 16,
   "metadata": {},
   "outputs": [],
   "source": [
    "internet['InternetOption'] = 'Yes'"
   ]
  },
  {
   "cell_type": "markdown",
   "metadata": {},
   "source": [
    "#### Вывод"
   ]
  },
  {
   "cell_type": "markdown",
   "metadata": {},
   "source": [
    "Информация об интернет-услугах была импортированна методом read_csv() в переменную internet, по общей информации, полученной с помощью методов info(), duplicated(), isna() можно сделать вывод, что данные корректны, не содержат дубликатов и пропусков и не нуждаются в дополнительной предобработке. Создаем дополнительный столбец InternetOption как индикатор подключения интернета."
   ]
  },
  {
   "cell_type": "markdown",
   "metadata": {},
   "source": [
    "### Информация об услугах телефонии"
   ]
  },
  {
   "cell_type": "code",
   "execution_count": 17,
   "metadata": {},
   "outputs": [
    {
     "name": "stdout",
     "output_type": "stream",
     "text": [
      "<class 'pandas.core.frame.DataFrame'>\n",
      "RangeIndex: 6361 entries, 0 to 6360\n",
      "Data columns (total 2 columns):\n",
      "customerID       6361 non-null object\n",
      "MultipleLines    6361 non-null object\n",
      "dtypes: object(2)\n",
      "memory usage: 99.5+ KB\n"
     ]
    },
    {
     "data": {
      "text/html": [
       "<div>\n",
       "<style scoped>\n",
       "    .dataframe tbody tr th:only-of-type {\n",
       "        vertical-align: middle;\n",
       "    }\n",
       "\n",
       "    .dataframe tbody tr th {\n",
       "        vertical-align: top;\n",
       "    }\n",
       "\n",
       "    .dataframe thead th {\n",
       "        text-align: right;\n",
       "    }\n",
       "</style>\n",
       "<table border=\"1\" class=\"dataframe\">\n",
       "  <thead>\n",
       "    <tr style=\"text-align: right;\">\n",
       "      <th></th>\n",
       "      <th>customerID</th>\n",
       "      <th>MultipleLines</th>\n",
       "    </tr>\n",
       "  </thead>\n",
       "  <tbody>\n",
       "    <tr>\n",
       "      <td>1649</td>\n",
       "      <td>8966-KZXXA</td>\n",
       "      <td>Yes</td>\n",
       "    </tr>\n",
       "    <tr>\n",
       "      <td>1920</td>\n",
       "      <td>7206-PQBBZ</td>\n",
       "      <td>No</td>\n",
       "    </tr>\n",
       "    <tr>\n",
       "      <td>2852</td>\n",
       "      <td>4567-AKPIA</td>\n",
       "      <td>Yes</td>\n",
       "    </tr>\n",
       "    <tr>\n",
       "      <td>911</td>\n",
       "      <td>7047-YXDMZ</td>\n",
       "      <td>No</td>\n",
       "    </tr>\n",
       "    <tr>\n",
       "      <td>6259</td>\n",
       "      <td>7619-PLRLP</td>\n",
       "      <td>Yes</td>\n",
       "    </tr>\n",
       "    <tr>\n",
       "      <td>3581</td>\n",
       "      <td>1304-NECVQ</td>\n",
       "      <td>Yes</td>\n",
       "    </tr>\n",
       "    <tr>\n",
       "      <td>5992</td>\n",
       "      <td>9248-OJYKK</td>\n",
       "      <td>Yes</td>\n",
       "    </tr>\n",
       "    <tr>\n",
       "      <td>3169</td>\n",
       "      <td>2921-XWDJH</td>\n",
       "      <td>No</td>\n",
       "    </tr>\n",
       "    <tr>\n",
       "      <td>3903</td>\n",
       "      <td>9134-WYRVP</td>\n",
       "      <td>No</td>\n",
       "    </tr>\n",
       "    <tr>\n",
       "      <td>121</td>\n",
       "      <td>3774-VBNXY</td>\n",
       "      <td>No</td>\n",
       "    </tr>\n",
       "  </tbody>\n",
       "</table>\n",
       "</div>"
      ],
      "text/plain": [
       "      customerID MultipleLines\n",
       "1649  8966-KZXXA           Yes\n",
       "1920  7206-PQBBZ            No\n",
       "2852  4567-AKPIA           Yes\n",
       "911   7047-YXDMZ            No\n",
       "6259  7619-PLRLP           Yes\n",
       "3581  1304-NECVQ           Yes\n",
       "5992  9248-OJYKK           Yes\n",
       "3169  2921-XWDJH            No\n",
       "3903  9134-WYRVP            No\n",
       "121   3774-VBNXY            No"
      ]
     },
     "execution_count": 17,
     "metadata": {},
     "output_type": "execute_result"
    }
   ],
   "source": [
    "phone = pd.read_csv('/datasets/final_provider/phone.csv')\n",
    "phone.info()\n",
    "phone.sample(10, random_state = 12345)"
   ]
  },
  {
   "cell_type": "markdown",
   "metadata": {},
   "source": [
    "Проверяем загруженные данные на наличие пропусков и дубликатов."
   ]
  },
  {
   "cell_type": "code",
   "execution_count": 18,
   "metadata": {},
   "outputs": [
    {
     "data": {
      "text/plain": [
       "0"
      ]
     },
     "execution_count": 18,
     "metadata": {},
     "output_type": "execute_result"
    }
   ],
   "source": [
    "phone.duplicated().sum()"
   ]
  },
  {
   "cell_type": "code",
   "execution_count": 19,
   "metadata": {},
   "outputs": [
    {
     "data": {
      "text/plain": [
       "customerID       0\n",
       "MultipleLines    0\n",
       "dtype: int64"
      ]
     },
     "execution_count": 19,
     "metadata": {},
     "output_type": "execute_result"
    }
   ],
   "source": [
    "phone.isna().sum()"
   ]
  },
  {
   "cell_type": "markdown",
   "metadata": {},
   "source": [
    "Создаем дополнительный столбец PhoneOption как индикатор подключения телефонной связи."
   ]
  },
  {
   "cell_type": "code",
   "execution_count": 20,
   "metadata": {},
   "outputs": [],
   "source": [
    "phone['PhoneOption'] = 'Yes'"
   ]
  },
  {
   "cell_type": "markdown",
   "metadata": {},
   "source": [
    "#### Вывод"
   ]
  },
  {
   "cell_type": "markdown",
   "metadata": {},
   "source": [
    "Информация об услугах телефонии была импортированна методом read_csv() в переменную internet, по общей информации, полученной с помощью методов info(), duplicated(), isna() можно сделать вывод, что данные корректны, не содержат дубликатов и пропусков и не нуждаются в дополнительной предобработке. Создаем дополнительный столбец PhoneOption как индикатор подключения телефонной связи."
   ]
  },
  {
   "cell_type": "markdown",
   "metadata": {},
   "source": [
    "### Объединение данных"
   ]
  },
  {
   "cell_type": "markdown",
   "metadata": {},
   "source": [
    "Объединяем данные в финальный датафрейм методом merge() по столбцу customerID."
   ]
  },
  {
   "cell_type": "code",
   "execution_count": 21,
   "metadata": {},
   "outputs": [],
   "source": [
    "temp_df = contract.merge(personal, on = 'customerID')\n",
    "temp_df = temp_df.merge(internet, how = 'outer', on = 'customerID')\n",
    "df = temp_df.merge(phone, how = 'outer', on = 'customerID')"
   ]
  },
  {
   "cell_type": "markdown",
   "metadata": {},
   "source": [
    "Проверим полученый датасет на наличие пропусков."
   ]
  },
  {
   "cell_type": "code",
   "execution_count": 22,
   "metadata": {},
   "outputs": [
    {
     "data": {
      "text/plain": [
       "customerID             0\n",
       "EndDate                0\n",
       "Type                   0\n",
       "PaperlessBilling       0\n",
       "PaymentMethod          0\n",
       "MonthlyCharges         0\n",
       "TotalCharges           0\n",
       "DayLong                0\n",
       "gender                 0\n",
       "SeniorCitizen          0\n",
       "Partner                0\n",
       "Dependents             0\n",
       "InternetService     1526\n",
       "OnlineSecurity      1526\n",
       "OnlineBackup        1526\n",
       "DeviceProtection    1526\n",
       "TechSupport         1526\n",
       "StreamingTV         1526\n",
       "StreamingMovies     1526\n",
       "InternetOption      1526\n",
       "MultipleLines        682\n",
       "PhoneOption          682\n",
       "dtype: int64"
      ]
     },
     "execution_count": 22,
     "metadata": {},
     "output_type": "execute_result"
    }
   ],
   "source": [
    "df.isna().sum()"
   ]
  },
  {
   "cell_type": "markdown",
   "metadata": {},
   "source": [
    "Ожидаемо получили пропуски в соответствующих столбцах у клиентов, не подключенных к услугам интернета или/и телефона. Так как строки с пропущенными значениями составляют около 30% датафрейма, то удалить их без значительной потери качества анализа не представляется возможным. Поэтому было решено заменить пропущенные значения на 'No', так как это подходит по семантике и в дальнейшем не предвидится проблем с обработкой."
   ]
  },
  {
   "cell_type": "code",
   "execution_count": 23,
   "metadata": {},
   "outputs": [
    {
     "data": {
      "text/plain": [
       "customerID          0\n",
       "EndDate             0\n",
       "Type                0\n",
       "PaperlessBilling    0\n",
       "PaymentMethod       0\n",
       "MonthlyCharges      0\n",
       "TotalCharges        0\n",
       "DayLong             0\n",
       "gender              0\n",
       "SeniorCitizen       0\n",
       "Partner             0\n",
       "Dependents          0\n",
       "InternetService     0\n",
       "OnlineSecurity      0\n",
       "OnlineBackup        0\n",
       "DeviceProtection    0\n",
       "TechSupport         0\n",
       "StreamingTV         0\n",
       "StreamingMovies     0\n",
       "InternetOption      0\n",
       "MultipleLines       0\n",
       "PhoneOption         0\n",
       "dtype: int64"
      ]
     },
     "execution_count": 23,
     "metadata": {},
     "output_type": "execute_result"
    }
   ],
   "source": [
    "df = df.fillna('No')\n",
    "df.isna().sum()"
   ]
  },
  {
   "cell_type": "markdown",
   "metadata": {},
   "source": [
    "#### Вывод"
   ]
  },
  {
   "cell_type": "markdown",
   "metadata": {},
   "source": [
    "Для удобства дальнейшего анализа все предоставленные данные были объединены в один датафрейм df методом merge(), пропуски обработаны."
   ]
  },
  {
   "cell_type": "markdown",
   "metadata": {},
   "source": [
    "### Вывод"
   ]
  },
  {
   "cell_type": "markdown",
   "metadata": {},
   "source": [
    "Все необходимые данные были импортированны методом read_csv() по общей информации, полученной с помощью методов info(), duplicated(), isna() можно сделать вывод, что данные в целом корректны, не содержат дубликатов и пропусков. Для удобства дальнейшего анализа все предоставленные данные были объединены в один датафрейм df методом merge(), пропуски обработаны."
   ]
  },
  {
   "cell_type": "markdown",
   "metadata": {},
   "source": [
    "## Исследовательский анализ данных"
   ]
  },
  {
   "cell_type": "code",
   "execution_count": 24,
   "metadata": {
    "scrolled": false
   },
   "outputs": [
    {
     "data": {
      "text/html": [
       "<div>\n",
       "<style scoped>\n",
       "    .dataframe tbody tr th:only-of-type {\n",
       "        vertical-align: middle;\n",
       "    }\n",
       "\n",
       "    .dataframe tbody tr th {\n",
       "        vertical-align: top;\n",
       "    }\n",
       "\n",
       "    .dataframe thead th {\n",
       "        text-align: right;\n",
       "    }\n",
       "</style>\n",
       "<table border=\"1\" class=\"dataframe\">\n",
       "  <thead>\n",
       "    <tr style=\"text-align: right;\">\n",
       "      <th></th>\n",
       "      <th>customerID</th>\n",
       "      <th>EndDate</th>\n",
       "      <th>Type</th>\n",
       "      <th>PaperlessBilling</th>\n",
       "      <th>PaymentMethod</th>\n",
       "      <th>MonthlyCharges</th>\n",
       "      <th>TotalCharges</th>\n",
       "      <th>DayLong</th>\n",
       "      <th>gender</th>\n",
       "      <th>SeniorCitizen</th>\n",
       "      <th>...</th>\n",
       "      <th>InternetService</th>\n",
       "      <th>OnlineSecurity</th>\n",
       "      <th>OnlineBackup</th>\n",
       "      <th>DeviceProtection</th>\n",
       "      <th>TechSupport</th>\n",
       "      <th>StreamingTV</th>\n",
       "      <th>StreamingMovies</th>\n",
       "      <th>InternetOption</th>\n",
       "      <th>MultipleLines</th>\n",
       "      <th>PhoneOption</th>\n",
       "    </tr>\n",
       "  </thead>\n",
       "  <tbody>\n",
       "    <tr>\n",
       "      <td>1128</td>\n",
       "      <td>0098-BOWSO</td>\n",
       "      <td>0</td>\n",
       "      <td>Month-to-month</td>\n",
       "      <td>Yes</td>\n",
       "      <td>Electronic check</td>\n",
       "      <td>19</td>\n",
       "      <td>529</td>\n",
       "      <td>822</td>\n",
       "      <td>Male</td>\n",
       "      <td>0</td>\n",
       "      <td>...</td>\n",
       "      <td>No</td>\n",
       "      <td>No</td>\n",
       "      <td>No</td>\n",
       "      <td>No</td>\n",
       "      <td>No</td>\n",
       "      <td>No</td>\n",
       "      <td>No</td>\n",
       "      <td>No</td>\n",
       "      <td>No</td>\n",
       "      <td>Yes</td>\n",
       "    </tr>\n",
       "    <tr>\n",
       "      <td>2875</td>\n",
       "      <td>9992-RRAMN</td>\n",
       "      <td>1</td>\n",
       "      <td>Month-to-month</td>\n",
       "      <td>Yes</td>\n",
       "      <td>Electronic check</td>\n",
       "      <td>85</td>\n",
       "      <td>1873</td>\n",
       "      <td>668</td>\n",
       "      <td>Male</td>\n",
       "      <td>0</td>\n",
       "      <td>...</td>\n",
       "      <td>Fiber optic</td>\n",
       "      <td>No</td>\n",
       "      <td>No</td>\n",
       "      <td>No</td>\n",
       "      <td>No</td>\n",
       "      <td>No</td>\n",
       "      <td>Yes</td>\n",
       "      <td>Yes</td>\n",
       "      <td>Yes</td>\n",
       "      <td>Yes</td>\n",
       "    </tr>\n",
       "    <tr>\n",
       "      <td>1783</td>\n",
       "      <td>8380-PEFPE</td>\n",
       "      <td>1</td>\n",
       "      <td>Month-to-month</td>\n",
       "      <td>Yes</td>\n",
       "      <td>Electronic check</td>\n",
       "      <td>71</td>\n",
       "      <td>71</td>\n",
       "      <td>30</td>\n",
       "      <td>Male</td>\n",
       "      <td>0</td>\n",
       "      <td>...</td>\n",
       "      <td>Fiber optic</td>\n",
       "      <td>No</td>\n",
       "      <td>No</td>\n",
       "      <td>No</td>\n",
       "      <td>No</td>\n",
       "      <td>No</td>\n",
       "      <td>No</td>\n",
       "      <td>Yes</td>\n",
       "      <td>No</td>\n",
       "      <td>Yes</td>\n",
       "    </tr>\n",
       "    <tr>\n",
       "      <td>3804</td>\n",
       "      <td>9773-PEQBZ</td>\n",
       "      <td>0</td>\n",
       "      <td>Month-to-month</td>\n",
       "      <td>No</td>\n",
       "      <td>Electronic check</td>\n",
       "      <td>79</td>\n",
       "      <td>797</td>\n",
       "      <td>306</td>\n",
       "      <td>Male</td>\n",
       "      <td>0</td>\n",
       "      <td>...</td>\n",
       "      <td>Fiber optic</td>\n",
       "      <td>No</td>\n",
       "      <td>Yes</td>\n",
       "      <td>No</td>\n",
       "      <td>No</td>\n",
       "      <td>No</td>\n",
       "      <td>No</td>\n",
       "      <td>Yes</td>\n",
       "      <td>Yes</td>\n",
       "      <td>Yes</td>\n",
       "    </tr>\n",
       "    <tr>\n",
       "      <td>6087</td>\n",
       "      <td>8319-QBEHW</td>\n",
       "      <td>0</td>\n",
       "      <td>One year</td>\n",
       "      <td>Yes</td>\n",
       "      <td>Bank transfer (automatic)</td>\n",
       "      <td>39</td>\n",
       "      <td>1023</td>\n",
       "      <td>792</td>\n",
       "      <td>Male</td>\n",
       "      <td>0</td>\n",
       "      <td>...</td>\n",
       "      <td>DSL</td>\n",
       "      <td>No</td>\n",
       "      <td>Yes</td>\n",
       "      <td>No</td>\n",
       "      <td>No</td>\n",
       "      <td>Yes</td>\n",
       "      <td>No</td>\n",
       "      <td>Yes</td>\n",
       "      <td>No</td>\n",
       "      <td>No</td>\n",
       "    </tr>\n",
       "  </tbody>\n",
       "</table>\n",
       "<p>5 rows × 22 columns</p>\n",
       "</div>"
      ],
      "text/plain": [
       "      customerID  EndDate            Type PaperlessBilling  \\\n",
       "1128  0098-BOWSO        0  Month-to-month              Yes   \n",
       "2875  9992-RRAMN        1  Month-to-month              Yes   \n",
       "1783  8380-PEFPE        1  Month-to-month              Yes   \n",
       "3804  9773-PEQBZ        0  Month-to-month               No   \n",
       "6087  8319-QBEHW        0        One year              Yes   \n",
       "\n",
       "                  PaymentMethod  MonthlyCharges  TotalCharges  DayLong gender  \\\n",
       "1128           Electronic check              19           529      822   Male   \n",
       "2875           Electronic check              85          1873      668   Male   \n",
       "1783           Electronic check              71            71       30   Male   \n",
       "3804           Electronic check              79           797      306   Male   \n",
       "6087  Bank transfer (automatic)              39          1023      792   Male   \n",
       "\n",
       "      SeniorCitizen  ... InternetService OnlineSecurity OnlineBackup  \\\n",
       "1128              0  ...              No             No           No   \n",
       "2875              0  ...     Fiber optic             No           No   \n",
       "1783              0  ...     Fiber optic             No           No   \n",
       "3804              0  ...     Fiber optic             No          Yes   \n",
       "6087              0  ...             DSL             No          Yes   \n",
       "\n",
       "     DeviceProtection TechSupport StreamingTV StreamingMovies InternetOption  \\\n",
       "1128               No          No          No              No             No   \n",
       "2875               No          No          No             Yes            Yes   \n",
       "1783               No          No          No              No            Yes   \n",
       "3804               No          No          No              No            Yes   \n",
       "6087               No          No         Yes              No            Yes   \n",
       "\n",
       "     MultipleLines PhoneOption  \n",
       "1128            No         Yes  \n",
       "2875           Yes         Yes  \n",
       "1783            No         Yes  \n",
       "3804           Yes         Yes  \n",
       "6087            No          No  \n",
       "\n",
       "[5 rows x 22 columns]"
      ]
     },
     "execution_count": 24,
     "metadata": {},
     "output_type": "execute_result"
    }
   ],
   "source": [
    "df.sample(5, random_state = 12345)"
   ]
  },
  {
   "cell_type": "markdown",
   "metadata": {},
   "source": [
    "Построим график распределения для столбца TotalCharges отдельно для мужчин и женщин."
   ]
  },
  {
   "cell_type": "code",
   "execution_count": 25,
   "metadata": {},
   "outputs": [
    {
     "data": {
      "text/plain": [
       "<matplotlib.legend.Legend at 0x7f5f59a30dd0>"
      ]
     },
     "execution_count": 25,
     "metadata": {},
     "output_type": "execute_result"
    },
    {
     "data": {
      "image/png": "[encoded data removed]",
      "text/plain": [
       "<Figure size 1440x720 with 1 Axes>"
      ]
     },
     "metadata": {},
     "output_type": "display_data"
    }
   ],
   "source": [
    "sns.set(rc = {'figure.figsize':(20, 10)})\n",
    "sns.distplot(df.query('gender == \"Male\"')['TotalCharges'])\n",
    "sns.distplot(df.query('gender == \"Female\"')['TotalCharges'])\n",
    "plt.legend(labels = ['Male','Female'])"
   ]
  },
  {
   "cell_type": "markdown",
   "metadata": {},
   "source": [
    "По графику видно, что значения столбца TotalCharges очень схожи у мужчин и женщин, выполним проверку данной гипотезы с помощью метода ttest_ind(). H0 -- выборки не имеют значимых различий, H1 -- выборки имеют значимые различия."
   ]
  },
  {
   "cell_type": "code",
   "execution_count": 26,
   "metadata": {},
   "outputs": [
    {
     "name": "stdout",
     "output_type": "stream",
     "text": [
      "p-значение: 0.9999330745474897\n",
      "Не получилось отвергнуть нулевую гипотезу\n"
     ]
    }
   ],
   "source": [
    "sample_1 = df.query('gender == \"Male\"')['TotalCharges']\n",
    "sample_2 = df.query('gender == \"Female\"')['TotalCharges']\n",
    "\n",
    "alpha = 0.05 \n",
    "\n",
    "results = st.ttest_ind(sample_1, sample_2)\n",
    "\n",
    "print('p-значение:', results.pvalue)\n",
    "\n",
    "if results.pvalue < alpha:\n",
    "    print('Отвергаем нулевую гипотезу')\n",
    "else:\n",
    "    print('Не получилось отвергнуть нулевую гипотезу') "
   ]
  },
  {
   "cell_type": "markdown",
   "metadata": {},
   "source": [
    "Сравним распределения величин MonthlyCharges всех клиентов и тех, кто ушёл."
   ]
  },
  {
   "cell_type": "code",
   "execution_count": 27,
   "metadata": {},
   "outputs": [
    {
     "data": {
      "text/plain": [
       "<matplotlib.legend.Legend at 0x7f5f45e17c10>"
      ]
     },
     "execution_count": 27,
     "metadata": {},
     "output_type": "execute_result"
    },
    {
     "data": {
      "image/png": "[encoded data removed]",
      "text/plain": [
       "<Figure size 1440x720 with 1 Axes>"
      ]
     },
     "metadata": {},
     "output_type": "display_data"
    }
   ],
   "source": [
    "sns.set(rc = {'figure.figsize':(20, 10)})\n",
    "sns.distplot(df['MonthlyCharges'])\n",
    "sns.distplot(df.query('EndDate == 0')['MonthlyCharges'])\n",
    "plt.legend(labels = ['All','lefted'])"
   ]
  },
  {
   "cell_type": "markdown",
   "metadata": {},
   "source": [
    "По графику видно, что значения столбца MonthlyCharges очень схожи у мужчин и у женщин, выполним проверку данной гипотезы с помощью метода ttest_ind(). H0 -- выборки не имеют значимых различий, H1 -- выборки имеют значимые различия."
   ]
  },
  {
   "cell_type": "code",
   "execution_count": 28,
   "metadata": {},
   "outputs": [
    {
     "name": "stdout",
     "output_type": "stream",
     "text": [
      "p-значение: 3.994559654770608e-10\n",
      "Отвергаем нулевую гипотезу\n"
     ]
    }
   ],
   "source": [
    "sample_1 = df['MonthlyCharges']\n",
    "sample_2 = df.query('EndDate == 0')['MonthlyCharges'] \n",
    "\n",
    "alpha = 0.05 \n",
    "\n",
    "results = st.ttest_ind(sample_1, sample_2)\n",
    "\n",
    "print('p-значение:', results.pvalue)\n",
    "\n",
    "if results.pvalue < alpha:\n",
    "    print('Отвергаем нулевую гипотезу')\n",
    "else:\n",
    "    print('Не получилось отвергнуть нулевую гипотезу') "
   ]
  },
  {
   "cell_type": "markdown",
   "metadata": {},
   "source": [
    "Рассмострим, как отличается TotalCharges в зависимости от Type и PaymentMethod."
   ]
  },
  {
   "cell_type": "code",
   "execution_count": 29,
   "metadata": {},
   "outputs": [
    {
     "data": {
      "text/plain": [
       "<matplotlib.axes._subplots.AxesSubplot at 0x7f5f46178210>"
      ]
     },
     "execution_count": 29,
     "metadata": {},
     "output_type": "execute_result"
    },
    {
     "data": {
      "image/png": "[encoded data removed]",
      "text/plain": [
       "<Figure size 1440x720 with 1 Axes>"
      ]
     },
     "metadata": {},
     "output_type": "display_data"
    }
   ],
   "source": [
    "sns.barplot(\n",
    "    x = 'Type', \n",
    "    y = 'TotalCharges', \n",
    "    hue = 'PaymentMethod', \n",
    "    ci = None,\n",
    "    data = df\n",
    ")"
   ]
  },
  {
   "cell_type": "markdown",
   "metadata": {},
   "source": [
    "По графику можно заметить, что превалирует по большей части облата через Electronic chek и что, как и ожидалось, наибольший TotalCharges у типа подписки Two year."
   ]
  },
  {
   "cell_type": "markdown",
   "metadata": {},
   "source": [
    "Удаляем столбец customerID, так как он был нам необходим лишь для объединения таблиц."
   ]
  },
  {
   "cell_type": "code",
   "execution_count": 30,
   "metadata": {},
   "outputs": [],
   "source": [
    "df.drop('customerID', axis = 1, inplace = True)"
   ]
  },
  {
   "cell_type": "markdown",
   "metadata": {},
   "source": [
    "Для удобства дельнейшего анализа закодируем категориальные признаки техникой OHE методом get_dummies()."
   ]
  },
  {
   "cell_type": "code",
   "execution_count": 32,
   "metadata": {},
   "outputs": [],
   "source": [
    "cat_features = ['Type', 'PaymentMethod',  'PaperlessBilling', 'gender', 'Partner', 'Dependents', 'InternetService', 'OnlineSecurity', 'OnlineBackup', 'DeviceProtection', 'TechSupport', 'StreamingTV', 'StreamingMovies', 'InternetOption', 'MultipleLines', 'PhoneOption']\n",
    "df_with_cat = df\n",
    "df = pd.get_dummies(df, columns = cat_features, drop_first = True)"
   ]
  },
  {
   "cell_type": "markdown",
   "metadata": {},
   "source": [
    "Рассмострим, как колличественные признаки (MonthlyCharges, TotalCharges, DayLong) коррелируют между собой, построив тепловую карту."
   ]
  },
  {
   "cell_type": "code",
   "execution_count": 33,
   "metadata": {},
   "outputs": [
    {
     "data": {
      "text/plain": [
       "<matplotlib.axes._subplots.AxesSubplot at 0x7f5f45febe90>"
      ]
     },
     "execution_count": 33,
     "metadata": {},
     "output_type": "execute_result"
    },
    {
     "data": {
      "image/png": "[encoded data removed]",
      "text/plain": [
       "<Figure size 1440x720 with 2 Axes>"
      ]
     },
     "metadata": {},
     "output_type": "display_data"
    }
   ],
   "source": [
    "temp_df = df.loc[:, ['MonthlyCharges', 'TotalCharges', 'DayLong']]\n",
    "sns.heatmap(temp_df.corr(), annot = True, fmt = '.3g')"
   ]
  },
  {
   "cell_type": "markdown",
   "metadata": {},
   "source": [
    "Заметим, что признаки MonthlyCharges и TotalCharges достаточно сильно коррелируют, что ухудшит в дальнейшем обучение моделей, поэтому удалим признак MonthlyCharges."
   ]
  },
  {
   "cell_type": "code",
   "execution_count": 34,
   "metadata": {},
   "outputs": [],
   "source": [
    "df.drop('MonthlyCharges', axis = 1, inplace = True)"
   ]
  },
  {
   "cell_type": "code",
   "execution_count": 35,
   "metadata": {},
   "outputs": [
    {
     "data": {
      "text/html": [
       "<div>\n",
       "<style scoped>\n",
       "    .dataframe tbody tr th:only-of-type {\n",
       "        vertical-align: middle;\n",
       "    }\n",
       "\n",
       "    .dataframe tbody tr th {\n",
       "        vertical-align: top;\n",
       "    }\n",
       "\n",
       "    .dataframe thead th {\n",
       "        text-align: right;\n",
       "    }\n",
       "</style>\n",
       "<table border=\"1\" class=\"dataframe\">\n",
       "  <thead>\n",
       "    <tr style=\"text-align: right;\">\n",
       "      <th></th>\n",
       "      <th>EndDate</th>\n",
       "      <th>TotalCharges</th>\n",
       "      <th>DayLong</th>\n",
       "      <th>SeniorCitizen</th>\n",
       "      <th>Type_One year</th>\n",
       "      <th>Type_Two year</th>\n",
       "      <th>PaymentMethod_Credit card (automatic)</th>\n",
       "      <th>PaymentMethod_Electronic check</th>\n",
       "      <th>PaymentMethod_Mailed check</th>\n",
       "      <th>PaperlessBilling_Yes</th>\n",
       "      <th>...</th>\n",
       "      <th>InternetService_No</th>\n",
       "      <th>OnlineSecurity_Yes</th>\n",
       "      <th>OnlineBackup_Yes</th>\n",
       "      <th>DeviceProtection_Yes</th>\n",
       "      <th>TechSupport_Yes</th>\n",
       "      <th>StreamingTV_Yes</th>\n",
       "      <th>StreamingMovies_Yes</th>\n",
       "      <th>InternetOption_Yes</th>\n",
       "      <th>MultipleLines_Yes</th>\n",
       "      <th>PhoneOption_Yes</th>\n",
       "    </tr>\n",
       "  </thead>\n",
       "  <tbody>\n",
       "    <tr>\n",
       "      <td>0</td>\n",
       "      <td>0</td>\n",
       "      <td>29</td>\n",
       "      <td>31</td>\n",
       "      <td>0</td>\n",
       "      <td>0</td>\n",
       "      <td>0</td>\n",
       "      <td>0</td>\n",
       "      <td>1</td>\n",
       "      <td>0</td>\n",
       "      <td>1</td>\n",
       "      <td>...</td>\n",
       "      <td>0</td>\n",
       "      <td>0</td>\n",
       "      <td>1</td>\n",
       "      <td>0</td>\n",
       "      <td>0</td>\n",
       "      <td>0</td>\n",
       "      <td>0</td>\n",
       "      <td>1</td>\n",
       "      <td>0</td>\n",
       "      <td>0</td>\n",
       "    </tr>\n",
       "    <tr>\n",
       "      <td>1</td>\n",
       "      <td>0</td>\n",
       "      <td>1889</td>\n",
       "      <td>1036</td>\n",
       "      <td>0</td>\n",
       "      <td>1</td>\n",
       "      <td>0</td>\n",
       "      <td>0</td>\n",
       "      <td>0</td>\n",
       "      <td>1</td>\n",
       "      <td>0</td>\n",
       "      <td>...</td>\n",
       "      <td>0</td>\n",
       "      <td>1</td>\n",
       "      <td>0</td>\n",
       "      <td>1</td>\n",
       "      <td>0</td>\n",
       "      <td>0</td>\n",
       "      <td>0</td>\n",
       "      <td>1</td>\n",
       "      <td>0</td>\n",
       "      <td>1</td>\n",
       "    </tr>\n",
       "    <tr>\n",
       "      <td>2</td>\n",
       "      <td>1</td>\n",
       "      <td>108</td>\n",
       "      <td>61</td>\n",
       "      <td>0</td>\n",
       "      <td>0</td>\n",
       "      <td>0</td>\n",
       "      <td>0</td>\n",
       "      <td>0</td>\n",
       "      <td>1</td>\n",
       "      <td>1</td>\n",
       "      <td>...</td>\n",
       "      <td>0</td>\n",
       "      <td>1</td>\n",
       "      <td>1</td>\n",
       "      <td>0</td>\n",
       "      <td>0</td>\n",
       "      <td>0</td>\n",
       "      <td>0</td>\n",
       "      <td>1</td>\n",
       "      <td>0</td>\n",
       "      <td>1</td>\n",
       "    </tr>\n",
       "    <tr>\n",
       "      <td>3</td>\n",
       "      <td>0</td>\n",
       "      <td>1840</td>\n",
       "      <td>1371</td>\n",
       "      <td>0</td>\n",
       "      <td>1</td>\n",
       "      <td>0</td>\n",
       "      <td>0</td>\n",
       "      <td>0</td>\n",
       "      <td>0</td>\n",
       "      <td>0</td>\n",
       "      <td>...</td>\n",
       "      <td>0</td>\n",
       "      <td>1</td>\n",
       "      <td>0</td>\n",
       "      <td>1</td>\n",
       "      <td>1</td>\n",
       "      <td>0</td>\n",
       "      <td>0</td>\n",
       "      <td>1</td>\n",
       "      <td>0</td>\n",
       "      <td>0</td>\n",
       "    </tr>\n",
       "    <tr>\n",
       "      <td>4</td>\n",
       "      <td>1</td>\n",
       "      <td>151</td>\n",
       "      <td>61</td>\n",
       "      <td>0</td>\n",
       "      <td>0</td>\n",
       "      <td>0</td>\n",
       "      <td>0</td>\n",
       "      <td>1</td>\n",
       "      <td>0</td>\n",
       "      <td>1</td>\n",
       "      <td>...</td>\n",
       "      <td>0</td>\n",
       "      <td>0</td>\n",
       "      <td>0</td>\n",
       "      <td>0</td>\n",
       "      <td>0</td>\n",
       "      <td>0</td>\n",
       "      <td>0</td>\n",
       "      <td>1</td>\n",
       "      <td>0</td>\n",
       "      <td>1</td>\n",
       "    </tr>\n",
       "    <tr>\n",
       "      <td>...</td>\n",
       "      <td>...</td>\n",
       "      <td>...</td>\n",
       "      <td>...</td>\n",
       "      <td>...</td>\n",
       "      <td>...</td>\n",
       "      <td>...</td>\n",
       "      <td>...</td>\n",
       "      <td>...</td>\n",
       "      <td>...</td>\n",
       "      <td>...</td>\n",
       "      <td>...</td>\n",
       "      <td>...</td>\n",
       "      <td>...</td>\n",
       "      <td>...</td>\n",
       "      <td>...</td>\n",
       "      <td>...</td>\n",
       "      <td>...</td>\n",
       "      <td>...</td>\n",
       "      <td>...</td>\n",
       "      <td>...</td>\n",
       "      <td>...</td>\n",
       "    </tr>\n",
       "    <tr>\n",
       "      <td>7038</td>\n",
       "      <td>0</td>\n",
       "      <td>1990</td>\n",
       "      <td>730</td>\n",
       "      <td>0</td>\n",
       "      <td>1</td>\n",
       "      <td>0</td>\n",
       "      <td>0</td>\n",
       "      <td>0</td>\n",
       "      <td>1</td>\n",
       "      <td>1</td>\n",
       "      <td>...</td>\n",
       "      <td>0</td>\n",
       "      <td>1</td>\n",
       "      <td>0</td>\n",
       "      <td>1</td>\n",
       "      <td>1</td>\n",
       "      <td>1</td>\n",
       "      <td>1</td>\n",
       "      <td>1</td>\n",
       "      <td>1</td>\n",
       "      <td>1</td>\n",
       "    </tr>\n",
       "    <tr>\n",
       "      <td>7039</td>\n",
       "      <td>0</td>\n",
       "      <td>7362</td>\n",
       "      <td>2191</td>\n",
       "      <td>0</td>\n",
       "      <td>1</td>\n",
       "      <td>0</td>\n",
       "      <td>1</td>\n",
       "      <td>0</td>\n",
       "      <td>0</td>\n",
       "      <td>1</td>\n",
       "      <td>...</td>\n",
       "      <td>0</td>\n",
       "      <td>0</td>\n",
       "      <td>1</td>\n",
       "      <td>1</td>\n",
       "      <td>0</td>\n",
       "      <td>1</td>\n",
       "      <td>1</td>\n",
       "      <td>1</td>\n",
       "      <td>1</td>\n",
       "      <td>1</td>\n",
       "    </tr>\n",
       "    <tr>\n",
       "      <td>7040</td>\n",
       "      <td>0</td>\n",
       "      <td>346</td>\n",
       "      <td>337</td>\n",
       "      <td>0</td>\n",
       "      <td>0</td>\n",
       "      <td>0</td>\n",
       "      <td>0</td>\n",
       "      <td>1</td>\n",
       "      <td>0</td>\n",
       "      <td>1</td>\n",
       "      <td>...</td>\n",
       "      <td>0</td>\n",
       "      <td>1</td>\n",
       "      <td>0</td>\n",
       "      <td>0</td>\n",
       "      <td>0</td>\n",
       "      <td>0</td>\n",
       "      <td>0</td>\n",
       "      <td>1</td>\n",
       "      <td>0</td>\n",
       "      <td>0</td>\n",
       "    </tr>\n",
       "    <tr>\n",
       "      <td>7041</td>\n",
       "      <td>1</td>\n",
       "      <td>306</td>\n",
       "      <td>123</td>\n",
       "      <td>1</td>\n",
       "      <td>0</td>\n",
       "      <td>0</td>\n",
       "      <td>0</td>\n",
       "      <td>0</td>\n",
       "      <td>1</td>\n",
       "      <td>1</td>\n",
       "      <td>...</td>\n",
       "      <td>0</td>\n",
       "      <td>0</td>\n",
       "      <td>0</td>\n",
       "      <td>0</td>\n",
       "      <td>0</td>\n",
       "      <td>0</td>\n",
       "      <td>0</td>\n",
       "      <td>1</td>\n",
       "      <td>1</td>\n",
       "      <td>1</td>\n",
       "    </tr>\n",
       "    <tr>\n",
       "      <td>7042</td>\n",
       "      <td>0</td>\n",
       "      <td>6844</td>\n",
       "      <td>2010</td>\n",
       "      <td>0</td>\n",
       "      <td>0</td>\n",
       "      <td>1</td>\n",
       "      <td>0</td>\n",
       "      <td>0</td>\n",
       "      <td>0</td>\n",
       "      <td>1</td>\n",
       "      <td>...</td>\n",
       "      <td>0</td>\n",
       "      <td>1</td>\n",
       "      <td>0</td>\n",
       "      <td>1</td>\n",
       "      <td>1</td>\n",
       "      <td>1</td>\n",
       "      <td>1</td>\n",
       "      <td>1</td>\n",
       "      <td>0</td>\n",
       "      <td>1</td>\n",
       "    </tr>\n",
       "  </tbody>\n",
       "</table>\n",
       "<p>7043 rows × 24 columns</p>\n",
       "</div>"
      ],
      "text/plain": [
       "      EndDate  TotalCharges  DayLong  SeniorCitizen  Type_One year  \\\n",
       "0           0            29       31              0              0   \n",
       "1           0          1889     1036              0              1   \n",
       "2           1           108       61              0              0   \n",
       "3           0          1840     1371              0              1   \n",
       "4           1           151       61              0              0   \n",
       "...       ...           ...      ...            ...            ...   \n",
       "7038        0          1990      730              0              1   \n",
       "7039        0          7362     2191              0              1   \n",
       "7040        0           346      337              0              0   \n",
       "7041        1           306      123              1              0   \n",
       "7042        0          6844     2010              0              0   \n",
       "\n",
       "      Type_Two year  PaymentMethod_Credit card (automatic)  \\\n",
       "0                 0                                      0   \n",
       "1                 0                                      0   \n",
       "2                 0                                      0   \n",
       "3                 0                                      0   \n",
       "4                 0                                      0   \n",
       "...             ...                                    ...   \n",
       "7038              0                                      0   \n",
       "7039              0                                      1   \n",
       "7040              0                                      0   \n",
       "7041              0                                      0   \n",
       "7042              1                                      0   \n",
       "\n",
       "      PaymentMethod_Electronic check  PaymentMethod_Mailed check  \\\n",
       "0                                  1                           0   \n",
       "1                                  0                           1   \n",
       "2                                  0                           1   \n",
       "3                                  0                           0   \n",
       "4                                  1                           0   \n",
       "...                              ...                         ...   \n",
       "7038                               0                           1   \n",
       "7039                               0                           0   \n",
       "7040                               1                           0   \n",
       "7041                               0                           1   \n",
       "7042                               0                           0   \n",
       "\n",
       "      PaperlessBilling_Yes  ...  InternetService_No  OnlineSecurity_Yes  \\\n",
       "0                        1  ...                   0                   0   \n",
       "1                        0  ...                   0                   1   \n",
       "2                        1  ...                   0                   1   \n",
       "3                        0  ...                   0                   1   \n",
       "4                        1  ...                   0                   0   \n",
       "...                    ...  ...                 ...                 ...   \n",
       "7038                     1  ...                   0                   1   \n",
       "7039                     1  ...                   0                   0   \n",
       "7040                     1  ...                   0                   1   \n",
       "7041                     1  ...                   0                   0   \n",
       "7042                     1  ...                   0                   1   \n",
       "\n",
       "      OnlineBackup_Yes  DeviceProtection_Yes  TechSupport_Yes  \\\n",
       "0                    1                     0                0   \n",
       "1                    0                     1                0   \n",
       "2                    1                     0                0   \n",
       "3                    0                     1                1   \n",
       "4                    0                     0                0   \n",
       "...                ...                   ...              ...   \n",
       "7038                 0                     1                1   \n",
       "7039                 1                     1                0   \n",
       "7040                 0                     0                0   \n",
       "7041                 0                     0                0   \n",
       "7042                 0                     1                1   \n",
       "\n",
       "      StreamingTV_Yes  StreamingMovies_Yes  InternetOption_Yes  \\\n",
       "0                   0                    0                   1   \n",
       "1                   0                    0                   1   \n",
       "2                   0                    0                   1   \n",
       "3                   0                    0                   1   \n",
       "4                   0                    0                   1   \n",
       "...               ...                  ...                 ...   \n",
       "7038                1                    1                   1   \n",
       "7039                1                    1                   1   \n",
       "7040                0                    0                   1   \n",
       "7041                0                    0                   1   \n",
       "7042                1                    1                   1   \n",
       "\n",
       "      MultipleLines_Yes  PhoneOption_Yes  \n",
       "0                     0                0  \n",
       "1                     0                1  \n",
       "2                     0                1  \n",
       "3                     0                0  \n",
       "4                     0                1  \n",
       "...                 ...              ...  \n",
       "7038                  1                1  \n",
       "7039                  1                1  \n",
       "7040                  0                0  \n",
       "7041                  1                1  \n",
       "7042                  0                1  \n",
       "\n",
       "[7043 rows x 24 columns]"
      ]
     },
     "execution_count": 35,
     "metadata": {},
     "output_type": "execute_result"
    }
   ],
   "source": [
    "df"
   ]
  },
  {
   "cell_type": "markdown",
   "metadata": {},
   "source": [
    "### Вывод"
   ]
  },
  {
   "cell_type": "markdown",
   "metadata": {},
   "source": [
    "Был произведен анализ данных следующим образом:\n",
    "\n",
    "- был построен график распределения для столбца TotalCharges отдельно для мужчин и женщин, из которого можно заключить, что значения столбца TotalCharges очень схожи у мужчин и женщин, выполним проверку данной гипотезы с помощью метода ttest_ind(). H0 -- выборки не имеют значимых различий, H1 -- выборки имеют значимые различия. Результат:\n",
    "    - p-значение: 0.9999330745474897\n",
    "    - Не получилось отвергнуть нулевую гипотезу\n",
    "- было произведено сравнение распределения величин MonthlyCharges всех клиентов и тех, кто ушёл. По графику видно, что значения столбца MonthlyCharges очень схожи у мужчин и у женщин, выполним проверку данной гипотезы с помощью метода ttest_ind(). H0 -- выборки не имеют значимых различий, H1 -- выборки имеют значимые различия. Результат:\n",
    "    - p-значение: 3.994559654770608e-10\n",
    "    - Отвергаем нулевую гипотезу\n",
    "- были рассмотрены различия TotalCharges в зависимости от Type и PaymentMethod, по графику можно заметить, что превалирует по большей части облата через Electronic chek и что, как и ожидалось, наибольший TotalCharges у типа подписки Two year\n",
    "- было рассмотрено, как колличественные признаки (MonthlyCharges, TotalCharges, DayLong) коррелируют между собой с помощью метода corr(). В итоге, признаки MonthlyCharges и TotalCharges достаточно сильно коррелируют, что ухудшит в дальнейшем обучение моделей, поэтому удалим признак MonthlyCharges."
   ]
  },
  {
   "cell_type": "markdown",
   "metadata": {},
   "source": [
    "## Обучение моделей и подбор гиперпараметров"
   ]
  },
  {
   "cell_type": "markdown",
   "metadata": {},
   "source": [
    "Выделим признаки и целевые признаки."
   ]
  },
  {
   "cell_type": "code",
   "execution_count": 36,
   "metadata": {},
   "outputs": [],
   "source": [
    "features = df.drop(['EndDate'], axis = 1)\n",
    "target = df['EndDate']"
   ]
  },
  {
   "cell_type": "markdown",
   "metadata": {},
   "source": [
    "Разделим данные на обущающую и тестовую выборку в отношении 4:1 методом train_test_split. Выделим отдельно переменные с целевым признаком для каждой выбокри."
   ]
  },
  {
   "cell_type": "code",
   "execution_count": 37,
   "metadata": {},
   "outputs": [],
   "source": [
    "features_train, features_temp, target_train, target_temp = train_test_split(features, target, test_size = 0.2, random_state = 12345, stratify = target)\n",
    "features_valid, features_test, target_valid, target_test = train_test_split(features_temp, target_temp, test_size = 0.5, random_state = 12345, stratify = target_temp)"
   ]
  },
  {
   "cell_type": "code",
   "execution_count": 38,
   "metadata": {},
   "outputs": [
    {
     "data": {
      "text/plain": [
       "(5634, 23)"
      ]
     },
     "execution_count": 38,
     "metadata": {},
     "output_type": "execute_result"
    }
   ],
   "source": [
    "features_train.shape"
   ]
  },
  {
   "cell_type": "code",
   "execution_count": 39,
   "metadata": {},
   "outputs": [
    {
     "data": {
      "text/plain": [
       "(5634,)"
      ]
     },
     "execution_count": 39,
     "metadata": {},
     "output_type": "execute_result"
    }
   ],
   "source": [
    "target_train.shape"
   ]
  },
  {
   "cell_type": "code",
   "execution_count": 40,
   "metadata": {},
   "outputs": [
    {
     "data": {
      "text/plain": [
       "(704, 23)"
      ]
     },
     "execution_count": 40,
     "metadata": {},
     "output_type": "execute_result"
    }
   ],
   "source": [
    "features_valid.shape"
   ]
  },
  {
   "cell_type": "code",
   "execution_count": 41,
   "metadata": {},
   "outputs": [
    {
     "data": {
      "text/plain": [
       "(704,)"
      ]
     },
     "execution_count": 41,
     "metadata": {},
     "output_type": "execute_result"
    }
   ],
   "source": [
    "target_valid.shape"
   ]
  },
  {
   "cell_type": "code",
   "execution_count": 42,
   "metadata": {},
   "outputs": [
    {
     "data": {
      "text/plain": [
       "(705, 23)"
      ]
     },
     "execution_count": 42,
     "metadata": {},
     "output_type": "execute_result"
    }
   ],
   "source": [
    "features_test.shape"
   ]
  },
  {
   "cell_type": "code",
   "execution_count": 43,
   "metadata": {},
   "outputs": [
    {
     "data": {
      "text/plain": [
       "(705,)"
      ]
     },
     "execution_count": 43,
     "metadata": {},
     "output_type": "execute_result"
    }
   ],
   "source": [
    "target_test.shape"
   ]
  },
  {
   "cell_type": "markdown",
   "metadata": {},
   "source": [
    "Рассмотрим соотношение классов с помощью метода value_counts()."
   ]
  },
  {
   "cell_type": "code",
   "execution_count": 45,
   "metadata": {},
   "outputs": [
    {
     "data": {
      "text/plain": [
       "0    0.73463\n",
       "1    0.26537\n",
       "Name: EndDate, dtype: float64"
      ]
     },
     "execution_count": 45,
     "metadata": {},
     "output_type": "execute_result"
    }
   ],
   "source": [
    "df['EndDate'].value_counts(normalize = True)"
   ]
  },
  {
   "cell_type": "markdown",
   "metadata": {},
   "source": [
    "Для увеличения и уменьшения выборки создадим функции upsampling и downsample соотвтственно"
   ]
  },
  {
   "cell_type": "code",
   "execution_count": 46,
   "metadata": {},
   "outputs": [],
   "source": [
    "def upsample(features, target, repeat):\n",
    "    features_zeros = features[target == 0]\n",
    "    features_ones = features[target == 1]\n",
    "    target_zeros = target[target == 0]\n",
    "    target_ones = target[target == 1]\n",
    "\n",
    "    features_upsampled = pd.concat([features_zeros] + [features_ones] * repeat)\n",
    "    target_upsampled = pd.concat([target_zeros] + [target_ones] * repeat)\n",
    "    \n",
    "    features_upsampled, target_upsampled = shuffle(features_upsampled, target_upsampled, random_state = 12345)\n",
    "    \n",
    "    return features_upsampled, target_upsampled"
   ]
  },
  {
   "cell_type": "code",
   "execution_count": 47,
   "metadata": {},
   "outputs": [],
   "source": [
    "def downsample(features, target, fraction):\n",
    "    features_zeros = features[target == 0]\n",
    "    features_ones = features[target == 1]\n",
    "    target_zeros = target[target == 0]\n",
    "    target_ones = target[target == 1]\n",
    "\n",
    "    features_downsampled = pd.concat([features_zeros.sample(frac=fraction, random_state=12345)] + [features_ones])\n",
    "    target_downsampled = pd.concat([target_zeros.sample(frac=fraction, random_state=12345)] + [target_ones])\n",
    "    \n",
    "    features_downsampled, target_downsampled = shuffle(features_downsampled, target_downsampled, random_state=12345)\n",
    "    \n",
    "    return features_downsampled, target_downsampled"
   ]
  },
  {
   "cell_type": "code",
   "execution_count": 48,
   "metadata": {},
   "outputs": [],
   "source": [
    "features_upsampled, target_upsampled = upsample(features_train, target_train, 3)\n",
    "features_downsampled, target_downsampled = downsample(features_train, target_train, 0.25)"
   ]
  },
  {
   "cell_type": "markdown",
   "metadata": {},
   "source": [
    "### Дерево решений"
   ]
  },
  {
   "cell_type": "code",
   "execution_count": 49,
   "metadata": {},
   "outputs": [],
   "source": [
    "def Tree_c(weight, features_train, target_train, features_valid, target_valid):\n",
    "    best_result = 0\n",
    "    for depth in range(1, 11):\n",
    "        model = DecisionTreeClassifier(max_depth = depth, random_state = 12345, class_weight = weight)\n",
    "        model.fit(features_train, target_train)\n",
    "        predicted = model.predict_proba(features_valid)[:, 1]\n",
    "        result = roc_auc_score(target_valid, predicted)\n",
    "        if result > best_result:\n",
    "            best_depth = depth\n",
    "            best_result = result\n",
    "            accuracy = model.score(features_valid, target_valid)    \n",
    "    print('Best depth:', best_depth)\n",
    "    print('Best AUC-ROC:', best_result)\n",
    "    print('accuracy:', accuracy)"
   ]
  },
  {
   "cell_type": "code",
   "execution_count": 50,
   "metadata": {},
   "outputs": [
    {
     "name": "stdout",
     "output_type": "stream",
     "text": [
      "DecisionTreeClassifier\n",
      "Best depth: 5\n",
      "Best AUC-ROC: 0.8373017925299185\n",
      "accuracy: 0.8153409090909091\n"
     ]
    }
   ],
   "source": [
    "print('DecisionTreeClassifier')\n",
    "Tree_c(None, features_train, target_train, features_valid, target_valid)"
   ]
  },
  {
   "cell_type": "code",
   "execution_count": 51,
   "metadata": {},
   "outputs": [
    {
     "name": "stdout",
     "output_type": "stream",
     "text": [
      "DecisionTreeClassifier_balanced\n",
      "Best depth: 7\n",
      "Best AUC-ROC: 0.8416150353230794\n",
      "accuracy: 0.7357954545454546\n"
     ]
    }
   ],
   "source": [
    "print('DecisionTreeClassifier_balanced')\n",
    "Tree_c('balanced', features_train, target_train, features_valid, target_valid)"
   ]
  },
  {
   "cell_type": "code",
   "execution_count": 52,
   "metadata": {},
   "outputs": [
    {
     "name": "stdout",
     "output_type": "stream",
     "text": [
      "DecisionTreeClassifier_upsampled\n",
      "Best depth: 7\n",
      "Best AUC-ROC: 0.8424063136772205\n",
      "accuracy: 0.7315340909090909\n"
     ]
    }
   ],
   "source": [
    "print('DecisionTreeClassifier_upsampled')\n",
    "Tree_c(None, features_upsampled, target_upsampled, features_valid, target_valid)"
   ]
  },
  {
   "cell_type": "code",
   "execution_count": 53,
   "metadata": {},
   "outputs": [
    {
     "name": "stdout",
     "output_type": "stream",
     "text": [
      "DecisionTreeClassifier_upsampled_balanced\n",
      "Best depth: 7\n",
      "Best AUC-ROC: 0.8405548257636095\n",
      "accuracy: 0.7357954545454546\n"
     ]
    }
   ],
   "source": [
    "print('DecisionTreeClassifier_upsampled_balanced')\n",
    "Tree_c('balanced', features_upsampled, target_upsampled, features_valid, target_valid)"
   ]
  },
  {
   "cell_type": "code",
   "execution_count": 54,
   "metadata": {},
   "outputs": [
    {
     "name": "stdout",
     "output_type": "stream",
     "text": [
      "DecisionTreeClassifier_downsampled\n",
      "Best depth: 6\n",
      "Best AUC-ROC: 0.8354192740926158\n",
      "accuracy: 0.6619318181818182\n"
     ]
    }
   ],
   "source": [
    "print('DecisionTreeClassifier_downsampled')\n",
    "Tree_c(None, features_downsampled, target_downsampled, features_valid, target_valid)"
   ]
  },
  {
   "cell_type": "code",
   "execution_count": 55,
   "metadata": {
    "scrolled": true
   },
   "outputs": [
    {
     "name": "stdout",
     "output_type": "stream",
     "text": [
      "DecisionTreeClassifier_downsampled_balanced\n",
      "Best depth: 6\n",
      "Best AUC-ROC: 0.8307491802769992\n",
      "accuracy: 0.7443181818181818\n"
     ]
    }
   ],
   "source": [
    "print('DecisionTreeClassifier_downsampled_balanced')\n",
    "Tree_c('balanced', features_downsampled, target_downsampled, features_valid, target_valid)"
   ]
  },
  {
   "cell_type": "markdown",
   "metadata": {},
   "source": [
    "#### Вывод"
   ]
  },
  {
   "cell_type": "markdown",
   "metadata": {},
   "source": [
    "В результате обучения модели DecisionTreeClassifier на различных данных (несбалансированных, сбалансированных автоматически, с увеличением и уменьшением), можно сделать вывод, что данная модель показывает лучший результат на увеличенной выборке:\n",
    "\n",
    "- Best depth: 7\n",
    "- Best AUC-ROC: 0.8424063136772205\n",
    "- accuracy: 0.7315340909090909"
   ]
  },
  {
   "cell_type": "markdown",
   "metadata": {},
   "source": [
    "### Случайный лес"
   ]
  },
  {
   "cell_type": "code",
   "execution_count": 56,
   "metadata": {},
   "outputs": [],
   "source": [
    "def Forest_c(weight, features_train, target_train, features_valid, target_valid):\n",
    "    best_result = 0\n",
    "    for est in range(10, 100, 5):\n",
    "        for depth in range(1, 20):\n",
    "            model = RandomForestClassifier(n_estimators = est, max_depth = depth, random_state = 12345, class_weight = weight)\n",
    "            model.fit(features_train, target_train)\n",
    "            predicted = model.predict_proba(features_valid)[:, 1]\n",
    "            result = roc_auc_score(target_valid, predicted)\n",
    "            if result > best_result:\n",
    "                best_depth = depth\n",
    "                best_est = est\n",
    "                best_result = result\n",
    "                accuracy = model.score(features_valid, target_valid)\n",
    "    print('Best depth:', best_depth)\n",
    "    print('Best est:', best_est)\n",
    "    print('Best AUC-ROC:', best_result)\n",
    "    print('accuracy:', accuracy)"
   ]
  },
  {
   "cell_type": "code",
   "execution_count": 57,
   "metadata": {
    "scrolled": true
   },
   "outputs": [
    {
     "name": "stdout",
     "output_type": "stream",
     "text": [
      "RandomForestClassifier\n",
      "Best depth: 12\n",
      "Best est: 95\n",
      "Best AUC-ROC: 0.8574354306519513\n",
      "accuracy: 0.8210227272727273\n"
     ]
    }
   ],
   "source": [
    "print('RandomForestClassifier')\n",
    "Forest_c(None, features_train, target_train, features_valid, target_valid)"
   ]
  },
  {
   "cell_type": "code",
   "execution_count": 58,
   "metadata": {},
   "outputs": [
    {
     "name": "stdout",
     "output_type": "stream",
     "text": [
      "RandomForestClassifier_balanced\n",
      "Best depth: 12\n",
      "Best est: 95\n",
      "Best AUC-ROC: 0.8556460037857239\n",
      "accuracy: 0.8039772727272727\n"
     ]
    }
   ],
   "source": [
    "print('RandomForestClassifier_balanced')\n",
    "Forest_c('balanced', features_train, target_train, features_valid, target_valid)"
   ]
  },
  {
   "cell_type": "code",
   "execution_count": 59,
   "metadata": {},
   "outputs": [
    {
     "name": "stdout",
     "output_type": "stream",
     "text": [
      "RandomForestClassifier_upsampled\n",
      "Best depth: 11\n",
      "Best est: 75\n",
      "Best AUC-ROC: 0.8554701641514703\n",
      "accuracy: 0.7769886363636364\n"
     ]
    }
   ],
   "source": [
    "print('RandomForestClassifier_upsampled')\n",
    "Forest_c(None, features_upsampled, target_upsampled, features_valid, target_valid)"
   ]
  },
  {
   "cell_type": "code",
   "execution_count": 60,
   "metadata": {},
   "outputs": [
    {
     "name": "stdout",
     "output_type": "stream",
     "text": [
      "RandomForestClassifier_upsampled_balanced\n",
      "Best depth: 11\n",
      "Best est: 20\n",
      "Best AUC-ROC: 0.8613659636529132\n",
      "accuracy: 0.7769886363636364\n"
     ]
    }
   ],
   "source": [
    "print('RandomForestClassifier_upsampled_balanced')\n",
    "Forest_c('balanced', features_upsampled, target_upsampled, features_valid, target_valid)"
   ]
  },
  {
   "cell_type": "code",
   "execution_count": 61,
   "metadata": {},
   "outputs": [
    {
     "name": "stdout",
     "output_type": "stream",
     "text": [
      "RandomForestClassifier_downsampled\n",
      "Best depth: 8\n",
      "Best est: 65\n",
      "Best AUC-ROC: 0.8512086388977957\n",
      "accuracy: 0.6775568181818182\n"
     ]
    }
   ],
   "source": [
    "print('RandomForestClassifier_downsampled')\n",
    "Forest_c(None, features_downsampled, target_downsampled, features_valid, target_valid)"
   ]
  },
  {
   "cell_type": "code",
   "execution_count": 62,
   "metadata": {},
   "outputs": [
    {
     "name": "stdout",
     "output_type": "stream",
     "text": [
      "RandomForestClassifier_downsampled_balanced\n",
      "Best depth: 8\n",
      "Best est: 65\n",
      "Best AUC-ROC: 0.8462127245834151\n",
      "accuracy: 0.7017045454545454\n"
     ]
    }
   ],
   "source": [
    "print('RandomForestClassifier_downsampled_balanced')\n",
    "Forest_c('balanced', features_downsampled, target_downsampled, features_valid, target_valid)"
   ]
  },
  {
   "cell_type": "markdown",
   "metadata": {},
   "source": [
    "#### Вывод"
   ]
  },
  {
   "cell_type": "markdown",
   "metadata": {},
   "source": [
    "В результате обучения модели RandomForestClassifier на различных данных (несбалансированных, сбалансированных автоматически, с увеличением и уменьшением), можно сделать вывод, что данная модель показывает лучший результат на учеличенной сбалансированной выборке:\n",
    "\n",
    "- Best depth: 11\n",
    "- Best est: 20\n",
    "- Best AUC-ROC: 0.8613659636529132\n",
    "- accuracy: 0.7769886363636364"
   ]
  },
  {
   "cell_type": "markdown",
   "metadata": {},
   "source": [
    "### Логистическая регрессия"
   ]
  },
  {
   "cell_type": "code",
   "execution_count": 63,
   "metadata": {},
   "outputs": [],
   "source": [
    "def L_reg(weight, features_train, target_train, features_valid, target_valid):\n",
    "    model = LogisticRegression(random_state = 12345, solver = 'liblinear', class_weight = weight)\n",
    "    model.fit(features_train, target_train)\n",
    "    predicted = model.predict_proba(features_valid)[:, 1]\n",
    "    result = roc_auc_score(target_valid, predicted)\n",
    "    accuracy = model.score(features_valid, target_valid)\n",
    "    \n",
    "    print('AUC-ROC:', result)\n",
    "    print('accuracy:', accuracy)"
   ]
  },
  {
   "cell_type": "code",
   "execution_count": 64,
   "metadata": {
    "scrolled": true
   },
   "outputs": [
    {
     "name": "stdout",
     "output_type": "stream",
     "text": [
      "LogisticRegression\n",
      "AUC-ROC: 0.8230122363698424\n",
      "accuracy: 0.7997159090909091\n"
     ]
    }
   ],
   "source": [
    "print('LogisticRegression')\n",
    "L_reg(None, features_train, target_train, features_valid, target_valid)"
   ]
  },
  {
   "cell_type": "code",
   "execution_count": 65,
   "metadata": {},
   "outputs": [
    {
     "name": "stdout",
     "output_type": "stream",
     "text": [
      "LogisticRegression_balanced\n",
      "AUC-ROC: 0.8254326172178033\n",
      "accuracy: 0.7244318181818182\n"
     ]
    }
   ],
   "source": [
    "print('LogisticRegression_balanced')\n",
    "L_reg('balanced', features_train, target_train, features_valid, target_valid)"
   ]
  },
  {
   "cell_type": "code",
   "execution_count": 66,
   "metadata": {},
   "outputs": [
    {
     "name": "stdout",
     "output_type": "stream",
     "text": [
      "LogisticRegression_upsampled\n",
      "AUC-ROC: 0.8252154035519605\n",
      "accuracy: 0.7045454545454546\n"
     ]
    }
   ],
   "source": [
    "print('LogisticRegression_upsampled')\n",
    "L_reg(None, features_upsampled, target_upsampled, features_valid, target_valid)"
   ]
  },
  {
   "cell_type": "code",
   "execution_count": 67,
   "metadata": {},
   "outputs": [
    {
     "name": "stdout",
     "output_type": "stream",
     "text": [
      "LogisticRegression_upsampled_balanced\n",
      "AUC-ROC: 0.825349869154625\n",
      "accuracy: 0.7144886363636364\n"
     ]
    }
   ],
   "source": [
    "print('LogisticRegression_upsampled_balanced')\n",
    "L_reg('balanced', features_upsampled, target_upsampled, features_valid, target_valid)"
   ]
  },
  {
   "cell_type": "code",
   "execution_count": 68,
   "metadata": {},
   "outputs": [
    {
     "name": "stdout",
     "output_type": "stream",
     "text": [
      "LogisticRegression_downsampled\n",
      "AUC-ROC: 0.8228570837513833\n",
      "accuracy: 0.6690340909090909\n"
     ]
    }
   ],
   "source": [
    "print('LogisticRegression_downsampled')\n",
    "L_reg(None, features_downsampled, target_downsampled, features_valid, target_valid)"
   ]
  },
  {
   "cell_type": "code",
   "execution_count": 69,
   "metadata": {
    "scrolled": false
   },
   "outputs": [
    {
     "name": "stdout",
     "output_type": "stream",
     "text": [
      "LogisticRegression_downsampled_balanced\n",
      "AUC-ROC: 0.8234880377331167\n",
      "accuracy: 0.7073863636363636\n"
     ]
    }
   ],
   "source": [
    "print('LogisticRegression_downsampled_balanced')\n",
    "L_reg('balanced', features_downsampled, target_downsampled, features_valid, target_valid)"
   ]
  },
  {
   "cell_type": "markdown",
   "metadata": {},
   "source": [
    "#### Вывод"
   ]
  },
  {
   "cell_type": "markdown",
   "metadata": {},
   "source": [
    "В результате обучения модели LogisticRegression на различных данных (несбалансированных, сбалансированных автоматически, с увеличением и уменьшением), можно сделать вывод, что данная модель показывает лучший результат на сбалансированной автоматически выборке:\n",
    "\n",
    "- AUC-ROC: 0.8254326172178033\n",
    "- accuracy: 0.7244318181818182"
   ]
  },
  {
   "cell_type": "markdown",
   "metadata": {},
   "source": [
    "### Градиентный бустинг"
   ]
  },
  {
   "cell_type": "markdown",
   "metadata": {},
   "source": [
    "Градиентный бустинг дает возможность обученияя на данных, которые содержат необработанные техникой OHE категориальные признаки, воспользуемся этой возможностью. Для этого снова выделим признаки и целевой признак."
   ]
  },
  {
   "cell_type": "code",
   "execution_count": 70,
   "metadata": {},
   "outputs": [],
   "source": [
    "features_c = df_with_cat.drop(['EndDate'], axis = 1)\n",
    "target_c = df_with_cat['EndDate']"
   ]
  },
  {
   "cell_type": "markdown",
   "metadata": {},
   "source": [
    "Разделим данные на обущающую и тестовую выборку в отношении 4:1 методом train_test_split. Выделим отдельно переменные с целевым признаком для каждой выбокри."
   ]
  },
  {
   "cell_type": "code",
   "execution_count": 71,
   "metadata": {},
   "outputs": [],
   "source": [
    "features_train_c, features_temp_c, target_train_c, target_temp_c = train_test_split(features_c, target, test_size = 0.2, random_state = 12345, stratify = target)\n",
    "features_valid_c, features_test_c, target_valid_c, target_test_c = train_test_split(features_temp_c, target_temp, test_size = 0.5, random_state = 12345, stratify = target_temp)"
   ]
  },
  {
   "cell_type": "code",
   "execution_count": 72,
   "metadata": {},
   "outputs": [],
   "source": [
    "def cat_c3(weight, features_train, target_train, features_valid, target_valid, cat_features):\n",
    "    best_result = 0\n",
    "    for est in range(1, 301, 30):\n",
    "        for depth in range(1, 11):\n",
    "            model = CatBoostClassifier(n_estimators = est, max_depth = depth, class_weights = weight)\n",
    "            model.fit(features_train, target_train, cat_features = cat_features, verbose = 100)\n",
    "            predicted = model.predict_proba(features_valid)[:, 1]\n",
    "            result = roc_auc_score(target_valid, predicted)\n",
    "            if result > best_result:\n",
    "                best_depth = depth\n",
    "                best_est = est\n",
    "                best_result = result\n",
    "                accuracy = model.score(features_valid, target_valid)\n",
    "    print('Best depth:', best_depth)\n",
    "    print('Best est:', best_est)\n",
    "    print('Best AUC-ROC:', best_result)\n",
    "    print('accuracy:', accuracy)"
   ]
  },
  {
   "cell_type": "code",
   "execution_count": 73,
   "metadata": {
    "scrolled": true
   },
   "outputs": [
    {
     "name": "stdout",
     "output_type": "stream",
     "text": [
      "CatBoostClassifier\n",
      "Learning rate set to 0.5\n",
      "0:\tlearn: 0.5624881\ttotal: 51.1ms\tremaining: 0us\n",
      "Learning rate set to 0.5\n",
      "0:\tlearn: 0.5277802\ttotal: 3.76ms\tremaining: 0us\n",
      "Learning rate set to 0.5\n",
      "0:\tlearn: 0.5187215\ttotal: 3.38ms\tremaining: 0us\n",
      "Learning rate set to 0.5\n",
      "0:\tlearn: 0.5102112\ttotal: 3.91ms\tremaining: 0us\n",
      "Learning rate set to 0.5\n",
      "0:\tlearn: 0.5042016\ttotal: 4.1ms\tremaining: 0us\n",
      "Learning rate set to 0.5\n",
      "0:\tlearn: 0.4941692\ttotal: 4.88ms\tremaining: 0us\n",
      "Learning rate set to 0.5\n",
      "0:\tlearn: 0.4865783\ttotal: 5.56ms\tremaining: 0us\n",
      "Learning rate set to 0.5\n",
      "0:\tlearn: 0.4812431\ttotal: 7.16ms\tremaining: 0us\n",
      "Learning rate set to 0.5\n",
      "0:\tlearn: 0.4765558\ttotal: 9.94ms\tremaining: 0us\n",
      "Learning rate set to 0.5\n",
      "0:\tlearn: 0.4690514\ttotal: 14.7ms\tremaining: 0us\n",
      "Learning rate set to 0.5\n",
      "0:\tlearn: 0.5624881\ttotal: 2.29ms\tremaining: 68.8ms\n",
      "30:\tlearn: 0.3882184\ttotal: 230ms\tremaining: 0us\n",
      "Learning rate set to 0.5\n",
      "0:\tlearn: 0.5277802\ttotal: 2.21ms\tremaining: 66.4ms\n",
      "30:\tlearn: 0.3489923\ttotal: 310ms\tremaining: 0us\n",
      "Learning rate set to 0.5\n",
      "0:\tlearn: 0.5187215\ttotal: 6.26ms\tremaining: 188ms\n",
      "30:\tlearn: 0.3359685\ttotal: 657ms\tremaining: 0us\n",
      "Learning rate set to 0.5\n",
      "0:\tlearn: 0.5102112\ttotal: 5.41ms\tremaining: 162ms\n",
      "30:\tlearn: 0.3101111\ttotal: 708ms\tremaining: 0us\n",
      "Learning rate set to 0.5\n",
      "0:\tlearn: 0.5042016\ttotal: 8.75ms\tremaining: 263ms\n",
      "30:\tlearn: 0.3114759\ttotal: 1.16s\tremaining: 0us\n",
      "Learning rate set to 0.5\n",
      "0:\tlearn: 0.4941692\ttotal: 3.7ms\tremaining: 111ms\n",
      "30:\tlearn: 0.2945846\ttotal: 707ms\tremaining: 0us\n",
      "Learning rate set to 0.5\n",
      "0:\tlearn: 0.4865783\ttotal: 4.37ms\tremaining: 131ms\n",
      "30:\tlearn: 0.2651256\ttotal: 836ms\tremaining: 0us\n",
      "Learning rate set to 0.5\n",
      "0:\tlearn: 0.4812431\ttotal: 6.86ms\tremaining: 206ms\n",
      "30:\tlearn: 0.2483076\ttotal: 1.07s\tremaining: 0us\n",
      "Learning rate set to 0.5\n",
      "0:\tlearn: 0.4765558\ttotal: 7.8ms\tremaining: 234ms\n",
      "30:\tlearn: 0.2342503\ttotal: 1.25s\tremaining: 0us\n",
      "Learning rate set to 0.5\n",
      "0:\tlearn: 0.4690514\ttotal: 11.5ms\tremaining: 345ms\n",
      "30:\tlearn: 0.1893512\ttotal: 1.45s\tremaining: 0us\n",
      "Learning rate set to 0.330276\n",
      "0:\tlearn: 0.5947785\ttotal: 2.18ms\tremaining: 131ms\n",
      "60:\tlearn: 0.3856573\ttotal: 512ms\tremaining: 0us\n",
      "Learning rate set to 0.330276\n",
      "0:\tlearn: 0.5665952\ttotal: 2.51ms\tremaining: 151ms\n",
      "60:\tlearn: 0.3513420\ttotal: 712ms\tremaining: 0us\n",
      "Learning rate set to 0.330276\n",
      "0:\tlearn: 0.5589656\ttotal: 2.76ms\tremaining: 166ms\n",
      "60:\tlearn: 0.3168895\ttotal: 830ms\tremaining: 0us\n",
      "Learning rate set to 0.330276\n",
      "0:\tlearn: 0.5521077\ttotal: 4.07ms\tremaining: 244ms\n",
      "60:\tlearn: 0.3010745\ttotal: 956ms\tremaining: 0us\n",
      "Learning rate set to 0.330276\n",
      "0:\tlearn: 0.5470914\ttotal: 3.57ms\tremaining: 214ms\n",
      "60:\tlearn: 0.2845506\ttotal: 1.14s\tremaining: 0us\n",
      "Learning rate set to 0.330276\n",
      "0:\tlearn: 0.5392700\ttotal: 3.93ms\tremaining: 236ms\n",
      "60:\tlearn: 0.2648110\ttotal: 1.38s\tremaining: 0us\n",
      "Learning rate set to 0.330276\n",
      "0:\tlearn: 0.5328941\ttotal: 4.76ms\tremaining: 286ms\n",
      "60:\tlearn: 0.2382217\ttotal: 1.69s\tremaining: 0us\n",
      "Learning rate set to 0.330276\n",
      "0:\tlearn: 0.5282428\ttotal: 5.67ms\tremaining: 340ms\n",
      "60:\tlearn: 0.2198649\ttotal: 2.36s\tremaining: 0us\n",
      "Learning rate set to 0.330276\n",
      "0:\tlearn: 0.5247650\ttotal: 7.87ms\tremaining: 472ms\n",
      "60:\tlearn: 0.1869599\ttotal: 2.66s\tremaining: 0us\n",
      "Learning rate set to 0.330276\n",
      "0:\tlearn: 0.5196099\ttotal: 10.7ms\tremaining: 642ms\n",
      "60:\tlearn: 0.1597050\ttotal: 2.9s\tremaining: 0us\n",
      "Learning rate set to 0.231259\n",
      "0:\tlearn: 0.6191779\ttotal: 4.42ms\tremaining: 398ms\n",
      "90:\tlearn: 0.3860426\ttotal: 939ms\tremaining: 0us\n",
      "Learning rate set to 0.231259\n",
      "0:\tlearn: 0.5970103\ttotal: 2.38ms\tremaining: 215ms\n",
      "90:\tlearn: 0.3501852\ttotal: 1.02s\tremaining: 0us\n",
      "Learning rate set to 0.231259\n",
      "0:\tlearn: 0.5908646\ttotal: 3.02ms\tremaining: 272ms\n",
      "90:\tlearn: 0.3251114\ttotal: 1.41s\tremaining: 0us\n",
      "Learning rate set to 0.231259\n",
      "0:\tlearn: 0.5854895\ttotal: 2.88ms\tremaining: 259ms\n",
      "90:\tlearn: 0.2996792\ttotal: 1.6s\tremaining: 0us\n",
      "Learning rate set to 0.231259\n",
      "0:\tlearn: 0.5814749\ttotal: 4.07ms\tremaining: 366ms\n",
      "90:\tlearn: 0.2807858\ttotal: 1.78s\tremaining: 0us\n",
      "Learning rate set to 0.231259\n",
      "0:\tlearn: 0.5754610\ttotal: 5.27ms\tremaining: 474ms\n",
      "90:\tlearn: 0.2543081\ttotal: 2.28s\tremaining: 0us\n",
      "Learning rate set to 0.231259\n",
      "0:\tlearn: 0.5703394\ttotal: 7.65ms\tremaining: 688ms\n",
      "90:\tlearn: 0.2313105\ttotal: 2.77s\tremaining: 0us\n",
      "Learning rate set to 0.231259\n",
      "0:\tlearn: 0.5664965\ttotal: 6.12ms\tremaining: 551ms\n",
      "90:\tlearn: 0.2127578\ttotal: 3.19s\tremaining: 0us\n",
      "Learning rate set to 0.231259\n",
      "0:\tlearn: 0.5638681\ttotal: 9.22ms\tremaining: 829ms\n",
      "90:\tlearn: 0.1801550\ttotal: 3.97s\tremaining: 0us\n",
      "Learning rate set to 0.231259\n",
      "0:\tlearn: 0.5601736\ttotal: 16.2ms\tremaining: 1.46s\n",
      "90:\tlearn: 0.1630713\ttotal: 4.5s\tremaining: 0us\n",
      "Learning rate set to 0.179409\n",
      "0:\tlearn: 0.6336665\ttotal: 2.65ms\tremaining: 319ms\n",
      "100:\tlearn: 0.3893275\ttotal: 946ms\tremaining: 187ms\n",
      "120:\tlearn: 0.3867332\ttotal: 1.14s\tremaining: 0us\n",
      "Learning rate set to 0.179409\n",
      "0:\tlearn: 0.6154284\ttotal: 2.2ms\tremaining: 264ms\n",
      "100:\tlearn: 0.3531587\ttotal: 1.53s\tremaining: 304ms\n",
      "120:\tlearn: 0.3481765\ttotal: 1.86s\tremaining: 0us\n",
      "Learning rate set to 0.179409\n",
      "0:\tlearn: 0.6103087\ttotal: 3.08ms\tremaining: 370ms\n",
      "100:\tlearn: 0.3321423\ttotal: 1.64s\tremaining: 325ms\n",
      "120:\tlearn: 0.3229218\ttotal: 1.94s\tremaining: 0us\n",
      "Learning rate set to 0.179409\n",
      "0:\tlearn: 0.6058932\ttotal: 5.56ms\tremaining: 667ms\n",
      "100:\tlearn: 0.3161666\ttotal: 1.89s\tremaining: 374ms\n",
      "120:\tlearn: 0.3019088\ttotal: 2.28s\tremaining: 0us\n",
      "Learning rate set to 0.179409\n",
      "0:\tlearn: 0.6025604\ttotal: 3.41ms\tremaining: 410ms\n",
      "100:\tlearn: 0.2875194\ttotal: 1.97s\tremaining: 390ms\n",
      "120:\tlearn: 0.2725124\ttotal: 2.46s\tremaining: 0us\n",
      "Learning rate set to 0.179409\n",
      "0:\tlearn: 0.5976672\ttotal: 4.58ms\tremaining: 550ms\n",
      "100:\tlearn: 0.2720221\ttotal: 2.41s\tremaining: 477ms\n",
      "120:\tlearn: 0.2514902\ttotal: 2.99s\tremaining: 0us\n",
      "Learning rate set to 0.179409\n",
      "0:\tlearn: 0.5934075\ttotal: 5.11ms\tremaining: 613ms\n",
      "100:\tlearn: 0.2466113\ttotal: 3.01s\tremaining: 596ms\n",
      "120:\tlearn: 0.2253508\ttotal: 3.6s\tremaining: 0us\n",
      "Learning rate set to 0.179409\n",
      "0:\tlearn: 0.5901628\ttotal: 5.81ms\tremaining: 698ms\n",
      "100:\tlearn: 0.2265323\ttotal: 3.54s\tremaining: 700ms\n",
      "120:\tlearn: 0.2058770\ttotal: 4.54s\tremaining: 0us\n",
      "Learning rate set to 0.179409\n",
      "0:\tlearn: 0.5880375\ttotal: 8.19ms\tremaining: 983ms\n",
      "100:\tlearn: 0.1998460\ttotal: 5.57s\tremaining: 1.1s\n",
      "120:\tlearn: 0.1800855\ttotal: 6.56s\tremaining: 0us\n",
      "Learning rate set to 0.179409\n",
      "0:\tlearn: 0.5851359\ttotal: 13.7ms\tremaining: 1.64s\n",
      "100:\tlearn: 0.1843309\ttotal: 4.89s\tremaining: 968ms\n",
      "120:\tlearn: 0.1648545\ttotal: 5.98s\tremaining: 0us\n",
      "Learning rate set to 0.147278\n",
      "0:\tlearn: 0.6432470\ttotal: 2.29ms\tremaining: 343ms\n",
      "100:\tlearn: 0.3910159\ttotal: 943ms\tremaining: 467ms\n",
      "150:\tlearn: 0.3852096\ttotal: 1.52s\tremaining: 0us\n",
      "Learning rate set to 0.147278\n",
      "0:\tlearn: 0.6277342\ttotal: 2.53ms\tremaining: 379ms\n",
      "100:\tlearn: 0.3615119\ttotal: 1.25s\tremaining: 621ms\n",
      "150:\tlearn: 0.3465649\ttotal: 1.84s\tremaining: 0us\n",
      "Learning rate set to 0.147278\n",
      "0:\tlearn: 0.6233464\ttotal: 2.46ms\tremaining: 370ms\n",
      "100:\tlearn: 0.3422476\ttotal: 1.48s\tremaining: 732ms\n",
      "150:\tlearn: 0.3220375\ttotal: 2.17s\tremaining: 0us\n",
      "Learning rate set to 0.147278\n",
      "0:\tlearn: 0.6195937\ttotal: 3.36ms\tremaining: 504ms\n",
      "100:\tlearn: 0.3311206\ttotal: 1.7s\tremaining: 841ms\n",
      "150:\tlearn: 0.3000514\ttotal: 2.67s\tremaining: 0us\n",
      "Learning rate set to 0.147278\n",
      "0:\tlearn: 0.6167435\ttotal: 3.11ms\tremaining: 467ms\n",
      "100:\tlearn: 0.3093362\ttotal: 1.98s\tremaining: 978ms\n",
      "150:\tlearn: 0.2754860\ttotal: 3.05s\tremaining: 0us\n",
      "Learning rate set to 0.147278\n",
      "0:\tlearn: 0.6126087\ttotal: 4.02ms\tremaining: 603ms\n",
      "100:\tlearn: 0.2869916\ttotal: 2.45s\tremaining: 1.21s\n",
      "150:\tlearn: 0.2505426\ttotal: 3.64s\tremaining: 0us\n",
      "Learning rate set to 0.147278\n",
      "0:\tlearn: 0.6089618\ttotal: 4.73ms\tremaining: 709ms\n",
      "100:\tlearn: 0.2673953\ttotal: 2.73s\tremaining: 1.35s\n",
      "150:\tlearn: 0.2270376\ttotal: 4.21s\tremaining: 0us\n",
      "Learning rate set to 0.147278\n",
      "0:\tlearn: 0.6061581\ttotal: 5.47ms\tremaining: 820ms\n",
      "100:\tlearn: 0.2442397\ttotal: 3.51s\tremaining: 1.74s\n",
      "150:\tlearn: 0.1969692\ttotal: 5.48s\tremaining: 0us\n",
      "Learning rate set to 0.147278\n",
      "0:\tlearn: 0.6043677\ttotal: 8.39ms\tremaining: 1.26s\n",
      "100:\tlearn: 0.2206712\ttotal: 4.09s\tremaining: 2.02s\n",
      "150:\tlearn: 0.1741934\ttotal: 6.56s\tremaining: 0us\n",
      "Learning rate set to 0.147278\n",
      "0:\tlearn: 0.6019676\ttotal: 15.4ms\tremaining: 2.31s\n",
      "100:\tlearn: 0.1927830\ttotal: 5.35s\tremaining: 2.65s\n",
      "150:\tlearn: 0.1474658\ttotal: 8.23s\tremaining: 0us\n",
      "Learning rate set to 0.125318\n",
      "0:\tlearn: 0.6500621\ttotal: 2.34ms\tremaining: 422ms\n",
      "100:\tlearn: 0.3927434\ttotal: 894ms\tremaining: 708ms\n",
      "180:\tlearn: 0.3849135\ttotal: 1.67s\tremaining: 0us\n",
      "Learning rate set to 0.125318\n",
      "0:\tlearn: 0.6365440\ttotal: 2.68ms\tremaining: 483ms\n",
      "100:\tlearn: 0.3632023\ttotal: 1.14s\tremaining: 900ms\n",
      "180:\tlearn: 0.3433571\ttotal: 2.2s\tremaining: 0us\n",
      "Learning rate set to 0.125318\n",
      "0:\tlearn: 0.6327010\ttotal: 2.9ms\tremaining: 522ms\n",
      "100:\tlearn: 0.3528808\ttotal: 1.46s\tremaining: 1.16s\n",
      "180:\tlearn: 0.3247358\ttotal: 2.63s\tremaining: 0us\n",
      "Learning rate set to 0.125318\n",
      "0:\tlearn: 0.6294326\ttotal: 2.81ms\tremaining: 505ms\n",
      "100:\tlearn: 0.3361435\ttotal: 1.73s\tremaining: 1.37s\n",
      "180:\tlearn: 0.3030695\ttotal: 3.29s\tremaining: 0us\n",
      "Learning rate set to 0.125318\n",
      "0:\tlearn: 0.6269399\ttotal: 3.52ms\tremaining: 634ms\n",
      "100:\tlearn: 0.3210496\ttotal: 2.02s\tremaining: 1.6s\n",
      "180:\tlearn: 0.2767223\ttotal: 3.88s\tremaining: 0us\n",
      "Learning rate set to 0.125318\n",
      "0:\tlearn: 0.6233523\ttotal: 3.51ms\tremaining: 632ms\n",
      "100:\tlearn: 0.3017930\ttotal: 2.34s\tremaining: 1.85s\n",
      "180:\tlearn: 0.2463346\ttotal: 4.3s\tremaining: 0us\n",
      "Learning rate set to 0.125318\n",
      "0:\tlearn: 0.6201604\ttotal: 4.63ms\tremaining: 833ms\n",
      "100:\tlearn: 0.2862962\ttotal: 3.26s\tremaining: 2.58s\n",
      "180:\tlearn: 0.2215464\ttotal: 5.62s\tremaining: 0us\n",
      "Learning rate set to 0.125318\n",
      "0:\tlearn: 0.6176915\ttotal: 6.71ms\tremaining: 1.21s\n",
      "100:\tlearn: 0.2744333\ttotal: 3.28s\tremaining: 2.6s\n",
      "180:\tlearn: 0.2033240\ttotal: 6.33s\tremaining: 0us\n",
      "Learning rate set to 0.125318\n",
      "0:\tlearn: 0.6161409\ttotal: 8.08ms\tremaining: 1.45s\n",
      "100:\tlearn: 0.2436048\ttotal: 4.08s\tremaining: 3.23s\n",
      "180:\tlearn: 0.1755857\ttotal: 7.83s\tremaining: 0us\n",
      "Learning rate set to 0.125318\n",
      "0:\tlearn: 0.6140879\ttotal: 11.6ms\tremaining: 2.09s\n",
      "100:\tlearn: 0.2125713\ttotal: 4.86s\tremaining: 3.85s\n",
      "180:\tlearn: 0.1459006\ttotal: 9.13s\tremaining: 0us\n",
      "Learning rate set to 0.109312\n",
      "0:\tlearn: 0.6551668\ttotal: 2.1ms\tremaining: 441ms\n",
      "100:\tlearn: 0.3959272\ttotal: 953ms\tremaining: 1.04s\n",
      "200:\tlearn: 0.3860542\ttotal: 1.93s\tremaining: 95.8ms\n",
      "210:\tlearn: 0.3855967\ttotal: 2.02s\tremaining: 0us\n",
      "Learning rate set to 0.109312\n",
      "0:\tlearn: 0.6431716\ttotal: 2.71ms\tremaining: 569ms\n",
      "100:\tlearn: 0.3708096\ttotal: 1.29s\tremaining: 1.41s\n",
      "200:\tlearn: 0.3487174\ttotal: 2.67s\tremaining: 133ms\n",
      "210:\tlearn: 0.3461976\ttotal: 2.85s\tremaining: 0us\n",
      "Learning rate set to 0.109312\n",
      "0:\tlearn: 0.6421548\ttotal: 3.87ms\tremaining: 813ms\n",
      "100:\tlearn: 0.3508888\ttotal: 1.81s\tremaining: 1.97s\n",
      "200:\tlearn: 0.3231601\ttotal: 3.77s\tremaining: 188ms\n",
      "210:\tlearn: 0.3195217\ttotal: 3.97s\tremaining: 0us\n",
      "Learning rate set to 0.109312\n",
      "0:\tlearn: 0.6296130\ttotal: 4.39ms\tremaining: 921ms\n",
      "100:\tlearn: 0.3414398\ttotal: 2.22s\tremaining: 2.42s\n",
      "200:\tlearn: 0.3016308\ttotal: 4.48s\tremaining: 223ms\n",
      "210:\tlearn: 0.2983169\ttotal: 4.78s\tremaining: 0us\n",
      "Learning rate set to 0.109312\n",
      "0:\tlearn: 0.6227934\ttotal: 4.87ms\tremaining: 1.02s\n",
      "100:\tlearn: 0.3314992\ttotal: 2.67s\tremaining: 2.9s\n",
      "200:\tlearn: 0.2789187\ttotal: 5.72s\tremaining: 285ms\n",
      "210:\tlearn: 0.2755610\ttotal: 6.11s\tremaining: 0us\n",
      "Learning rate set to 0.109312\n",
      "0:\tlearn: 0.6202531\ttotal: 6.37ms\tremaining: 1.34s\n",
      "100:\tlearn: 0.3157763\ttotal: 3.28s\tremaining: 3.57s\n",
      "200:\tlearn: 0.2566679\ttotal: 6.74s\tremaining: 335ms\n",
      "210:\tlearn: 0.2505281\ttotal: 7.13s\tremaining: 0us\n",
      "Learning rate set to 0.109312\n",
      "0:\tlearn: 0.6151559\ttotal: 5.78ms\tremaining: 1.21s\n",
      "100:\tlearn: 0.3016309\ttotal: 3.81s\tremaining: 4.15s\n",
      "200:\tlearn: 0.2302379\ttotal: 8.35s\tremaining: 415ms\n",
      "210:\tlearn: 0.2261772\ttotal: 8.75s\tremaining: 0us\n",
      "Learning rate set to 0.109312\n",
      "0:\tlearn: 0.6151749\ttotal: 7.31ms\tremaining: 1.53s\n",
      "100:\tlearn: 0.2933119\ttotal: 4.18s\tremaining: 4.56s\n",
      "200:\tlearn: 0.2086022\ttotal: 9.33s\tremaining: 464ms\n",
      "210:\tlearn: 0.2034888\ttotal: 9.83s\tremaining: 0us\n",
      "Learning rate set to 0.109312\n",
      "0:\tlearn: 0.6147977\ttotal: 9.37ms\tremaining: 1.97s\n",
      "100:\tlearn: 0.2624927\ttotal: 5.4s\tremaining: 5.88s\n",
      "200:\tlearn: 0.1745008\ttotal: 12.1s\tremaining: 600ms\n",
      "210:\tlearn: 0.1691734\ttotal: 12.8s\tremaining: 0us\n",
      "Learning rate set to 0.109312\n",
      "0:\tlearn: 0.6147977\ttotal: 16.5ms\tremaining: 3.47s\n",
      "100:\tlearn: 0.2421213\ttotal: 6.27s\tremaining: 6.83s\n",
      "200:\tlearn: 0.1493202\ttotal: 14.3s\tremaining: 710ms\n",
      "210:\tlearn: 0.1438860\ttotal: 15.1s\tremaining: 0us\n",
      "Learning rate set to 0.097102\n",
      "0:\tlearn: 0.6591390\ttotal: 2.14ms\tremaining: 514ms\n",
      "100:\tlearn: 0.3975644\ttotal: 1.36s\tremaining: 1.88s\n",
      "200:\tlearn: 0.3872512\ttotal: 2.34s\tremaining: 466ms\n",
      "240:\tlearn: 0.3850922\ttotal: 2.81s\tremaining: 0us\n",
      "Learning rate set to 0.097102\n",
      "0:\tlearn: 0.6483449\ttotal: 4.8ms\tremaining: 1.15s\n",
      "100:\tlearn: 0.3759176\ttotal: 1.3s\tremaining: 1.8s\n",
      "200:\tlearn: 0.3568328\ttotal: 2.66s\tremaining: 530ms\n",
      "240:\tlearn: 0.3484629\ttotal: 3.24s\tremaining: 0us\n",
      "Learning rate set to 0.097102\n",
      "0:\tlearn: 0.6474314\ttotal: 3.01ms\tremaining: 722ms\n",
      "100:\tlearn: 0.3570942\ttotal: 1.82s\tremaining: 2.53s\n",
      "200:\tlearn: 0.3317681\ttotal: 3.77s\tremaining: 751ms\n",
      "240:\tlearn: 0.3235623\ttotal: 4.56s\tremaining: 0us\n",
      "Learning rate set to 0.097102\n",
      "0:\tlearn: 0.6361122\ttotal: 4.03ms\tremaining: 968ms\n",
      "100:\tlearn: 0.3555037\ttotal: 2.1s\tremaining: 2.91s\n",
      "200:\tlearn: 0.3146194\ttotal: 4.29s\tremaining: 853ms\n",
      "240:\tlearn: 0.2993557\ttotal: 5.27s\tremaining: 0us\n",
      "Learning rate set to 0.097102\n",
      "0:\tlearn: 0.6299581\ttotal: 4.43ms\tremaining: 1.06s\n",
      "100:\tlearn: 0.3400895\ttotal: 2.86s\tremaining: 3.96s\n",
      "200:\tlearn: 0.2893607\ttotal: 5.83s\tremaining: 1.16s\n",
      "240:\tlearn: 0.2761551\ttotal: 7s\tremaining: 0us\n",
      "Learning rate set to 0.097102\n",
      "0:\tlearn: 0.6276448\ttotal: 5.15ms\tremaining: 1.24s\n",
      "100:\tlearn: 0.3302902\ttotal: 3.13s\tremaining: 4.33s\n",
      "200:\tlearn: 0.2686402\ttotal: 6.68s\tremaining: 1.33s\n",
      "240:\tlearn: 0.2501294\ttotal: 8.06s\tremaining: 0us\n",
      "Learning rate set to 0.097102\n",
      "0:\tlearn: 0.6229955\ttotal: 5.82ms\tremaining: 1.4s\n",
      "100:\tlearn: 0.3187591\ttotal: 3.54s\tremaining: 4.91s\n",
      "200:\tlearn: 0.2462627\ttotal: 7.7s\tremaining: 1.53s\n",
      "240:\tlearn: 0.2257228\ttotal: 9.46s\tremaining: 0us\n",
      "Learning rate set to 0.097102\n",
      "0:\tlearn: 0.6230128\ttotal: 7.3ms\tremaining: 1.75s\n",
      "100:\tlearn: 0.2964272\ttotal: 4.3s\tremaining: 5.97s\n",
      "200:\tlearn: 0.2136377\ttotal: 9.46s\tremaining: 1.88s\n",
      "240:\tlearn: 0.1923933\ttotal: 11.6s\tremaining: 0us\n",
      "Learning rate set to 0.097102\n",
      "0:\tlearn: 0.6226771\ttotal: 9.79ms\tremaining: 2.35s\n",
      "100:\tlearn: 0.2860902\ttotal: 5.14s\tremaining: 7.13s\n",
      "200:\tlearn: 0.1967146\ttotal: 11.8s\tremaining: 2.35s\n",
      "240:\tlearn: 0.1747934\ttotal: 14.6s\tremaining: 0us\n",
      "Learning rate set to 0.097102\n",
      "0:\tlearn: 0.6226771\ttotal: 13.3ms\tremaining: 3.18s\n",
      "100:\tlearn: 0.2572807\ttotal: 6.21s\tremaining: 8.61s\n",
      "200:\tlearn: 0.1641934\ttotal: 14.4s\tremaining: 2.86s\n",
      "240:\tlearn: 0.1397458\ttotal: 17.9s\tremaining: 0us\n",
      "Learning rate set to 0.087464\n",
      "0:\tlearn: 0.6623223\ttotal: 2.6ms\tremaining: 703ms\n",
      "100:\tlearn: 0.3998729\ttotal: 967ms\tremaining: 1.63s\n",
      "200:\tlearn: 0.3879019\ttotal: 2.02s\tremaining: 705ms\n",
      "270:\tlearn: 0.3844121\ttotal: 2.62s\tremaining: 0us\n",
      "Learning rate set to 0.087464\n",
      "0:\tlearn: 0.6525007\ttotal: 2.47ms\tremaining: 666ms\n",
      "100:\tlearn: 0.3742405\ttotal: 1.42s\tremaining: 2.39s\n",
      "200:\tlearn: 0.3534983\ttotal: 2.89s\tremaining: 1.01s\n",
      "270:\tlearn: 0.3452452\ttotal: 3.78s\tremaining: 0us\n",
      "Learning rate set to 0.087464\n",
      "0:\tlearn: 0.6516705\ttotal: 3.08ms\tremaining: 832ms\n",
      "100:\tlearn: 0.3650451\ttotal: 2.06s\tremaining: 3.47s\n",
      "200:\tlearn: 0.3321363\ttotal: 3.93s\tremaining: 1.37s\n",
      "270:\tlearn: 0.3194369\ttotal: 5.3s\tremaining: 0us\n",
      "Learning rate set to 0.087464\n",
      "0:\tlearn: 0.6413475\ttotal: 4.49ms\tremaining: 1.21s\n",
      "100:\tlearn: 0.3564975\ttotal: 2.21s\tremaining: 3.72s\n",
      "200:\tlearn: 0.3153643\ttotal: 4.57s\tremaining: 1.59s\n",
      "270:\tlearn: 0.2979682\ttotal: 6.25s\tremaining: 0us\n",
      "Learning rate set to 0.087464\n",
      "0:\tlearn: 0.6357354\ttotal: 5.13ms\tremaining: 1.39s\n",
      "100:\tlearn: 0.3453492\ttotal: 3.09s\tremaining: 5.2s\n",
      "200:\tlearn: 0.3008322\ttotal: 6.05s\tremaining: 2.11s\n",
      "270:\tlearn: 0.2739612\ttotal: 8.21s\tremaining: 0us\n",
      "Learning rate set to 0.087464\n",
      "0:\tlearn: 0.6336110\ttotal: 4.87ms\tremaining: 1.31s\n",
      "100:\tlearn: 0.3357005\ttotal: 3.29s\tremaining: 5.54s\n",
      "200:\tlearn: 0.2764399\ttotal: 6.75s\tremaining: 2.35s\n",
      "270:\tlearn: 0.2482003\ttotal: 9.22s\tremaining: 0us\n",
      "Learning rate set to 0.087464\n",
      "0:\tlearn: 0.6293359\ttotal: 6.45ms\tremaining: 1.74s\n",
      "100:\tlearn: 0.3196123\ttotal: 3.76s\tremaining: 6.33s\n",
      "200:\tlearn: 0.2552817\ttotal: 8.22s\tremaining: 2.86s\n",
      "270:\tlearn: 0.2253925\ttotal: 11.5s\tremaining: 0us\n",
      "Learning rate set to 0.087464\n",
      "0:\tlearn: 0.6293517\ttotal: 7.75ms\tremaining: 2.09s\n",
      "100:\tlearn: 0.3036588\ttotal: 4.25s\tremaining: 7.16s\n",
      "200:\tlearn: 0.2285450\ttotal: 9.4s\tremaining: 3.27s\n",
      "270:\tlearn: 0.1926151\ttotal: 13.2s\tremaining: 0us\n",
      "Learning rate set to 0.087464\n",
      "0:\tlearn: 0.6290488\ttotal: 9.32ms\tremaining: 2.52s\n",
      "100:\tlearn: 0.2792917\ttotal: 5.65s\tremaining: 9.52s\n",
      "200:\tlearn: 0.2011015\ttotal: 12.4s\tremaining: 4.32s\n",
      "270:\tlearn: 0.1684427\ttotal: 17.2s\tremaining: 0us\n",
      "Learning rate set to 0.087464\n",
      "0:\tlearn: 0.6290488\ttotal: 11.9ms\tremaining: 3.21s\n",
      "100:\tlearn: 0.2582158\ttotal: 6.1s\tremaining: 10.3s\n",
      "200:\tlearn: 0.1702371\ttotal: 14s\tremaining: 4.89s\n",
      "270:\tlearn: 0.1383048\ttotal: 19.8s\tremaining: 0us\n",
      "Best depth: 6\n",
      "Best est: 151\n",
      "Best AUC-ROC: 0.9040743077607338\n",
      "accuracy: 0.8536931818181818\n"
     ]
    }
   ],
   "source": [
    "print('CatBoostClassifier')\n",
    "cat_c3(None, features_train_c, target_train_c, features_valid_c, target_valid_c, cat_features)"
   ]
  },
  {
   "cell_type": "markdown",
   "metadata": {},
   "source": [
    "#### Вывод"
   ]
  },
  {
   "cell_type": "markdown",
   "metadata": {},
   "source": [
    "В результате обучения модели CatBoostClassifier на различных гиперпараметрах, можно сделать вывод, что данная модель показывает лучший результат на следующих гиперпараметрах:\n",
    "\n",
    "- Best depth: 6\n",
    "- Best est: 151\n",
    "- Best AUC-ROC: 0.9040743077607338\n",
    "- accuracy: 0.8536931818181818"
   ]
  },
  {
   "cell_type": "markdown",
   "metadata": {},
   "source": [
    "### Вывод"
   ]
  },
  {
   "cell_type": "markdown",
   "metadata": {},
   "source": [
    "В результате обучения различных моделей на резличных гиперпараметрах были получены следующие результаты:\n",
    "\n",
    "- DecisionTreeClassifier на увеличенной выборке:\n",
    "    - Best depth: 7\n",
    "    - Best AUC-ROC: 0.8424063136772205\n",
    "    - accuracy: 0.7315340909090909\n",
    "- RandomForestClassifier на учеличенной сбалансированной выборке:\n",
    "    - Best depth: 11\n",
    "    - Best est: 20\n",
    "    - Best AUC-ROC: 0.8613659636529132\n",
    "    - accuracy: 0.7769886363636364\n",
    "- LogisticRegression на сбалансированной автоматически выборке:\n",
    "    - AUC-ROC: 0.8254326172178033\n",
    "    - accuracy: 0.7244318181818182\n",
    "- CatBoostClassifier:\n",
    "    - Best depth: 6\n",
    "    - Best est: 151\n",
    "    - Best AUC-ROC: 0.9040743077607338\n",
    "    - accuracy: 0.8536931818181818\n",
    "    \n",
    "По результатам обучения данных моделей можно заключить, что наилучшая из них -- это CatBoostClassifier, которую мы далее возьмемся обучать на тестовых данных, а наихудший результат показала модель LogisticRegression."
   ]
  },
  {
   "cell_type": "markdown",
   "metadata": {},
   "source": [
    "## Тестирование лучшей модели"
   ]
  },
  {
   "cell_type": "markdown",
   "metadata": {},
   "source": [
    "Протестируем лучшую модель на тестовых данных."
   ]
  },
  {
   "cell_type": "code",
   "execution_count": 74,
   "metadata": {},
   "outputs": [
    {
     "name": "stdout",
     "output_type": "stream",
     "text": [
      "Learning rate set to 0.093647\n",
      "0:\tlearn: 0.6297702\ttotal: 4.85ms\tremaining: 1.21s\n",
      "100:\tlearn: 0.3321062\ttotal: 3.19s\tremaining: 4.74s\n",
      "200:\tlearn: 0.2732684\ttotal: 6.74s\tremaining: 1.68s\n",
      "250:\tlearn: 0.2512127\ttotal: 8.43s\tremaining: 0us\n",
      "AUC-ROC: 0.8963981169863523\n",
      "accuracy: 0.8482269503546099\n"
     ]
    }
   ],
   "source": [
    "model = CatBoostClassifier(n_estimators = 251, max_depth = 6)\n",
    "model.fit(features_train_c, target_train_c, cat_features = cat_features, verbose = 100)\n",
    "predicted = model.predict_proba(features_test_c)[:, 1]\n",
    "result = roc_auc_score(target_test_c, predicted)\n",
    "accuracy = model.score(features_test_c, target_test_c)\n",
    "print('AUC-ROC:', result)\n",
    "print('accuracy:', accuracy)"
   ]
  },
  {
   "cell_type": "markdown",
   "metadata": {},
   "source": [
    "Также рассмотрим важность каждого признака, построив диаграмму."
   ]
  },
  {
   "cell_type": "code",
   "execution_count": 75,
   "metadata": {},
   "outputs": [
    {
     "data": {
      "text/plain": [
       "Text(0.5, 0, 'Importance')"
      ]
     },
     "execution_count": 75,
     "metadata": {},
     "output_type": "execute_result"
    },
    {
     "data": {
      "image/png": "[encoded data removed]",
      "text/plain": [
       "<Figure size 720x504 with 1 Axes>"
      ]
     },
     "metadata": {},
     "output_type": "display_data"
    }
   ],
   "source": [
    "f_i = pd.DataFrame({'importance': model.feature_importances_, 'columns': features_test_c.columns})\n",
    "f_i = f_i.sort_values(['importance', 'columns'], ascending = [True, False]).iloc[-30:]\n",
    "f_i.plot(kind = 'barh', x = 'columns', y = 'importance', figsize = (10, 7))\n",
    "plt.title('Feature Importance')\n",
    "plt.ylabel('Features')\n",
    "plt.xlabel('Importance')"
   ]
  },
  {
   "cell_type": "markdown",
   "metadata": {},
   "source": [
    "### Вывод"
   ]
  },
  {
   "cell_type": "markdown",
   "metadata": {},
   "source": [
    "В результате тестирования модели CatBoostClassifier на лучших гиперпараметрах получаем следующие результаты:\n",
    "\n",
    "- AUC-ROC: 0.8963981169863523\n",
    "- accuracy: 0.8482269503546099\n",
    "\n",
    "Таким образом видим, что модель работает достаточно качественно."
   ]
  },
  {
   "cell_type": "markdown",
   "metadata": {},
   "source": [
    "## Вывод"
   ]
  },
  {
   "cell_type": "markdown",
   "metadata": {},
   "source": [
    "Задача: найти возможность спрогнозировать отток клиентов.\n",
    "Цель: найти модель, способную наилучшим образом предсказать поведение клиента.\n",
    "\n",
    "Работа над проектом была выполненна в несколько этапов:\n",
    "\n",
    "**Загрузка и подготовка данных**\n",
    "\n",
    "Все необходимые данные были импортированны методом read_csv() по общей информации, полученной с помощью методов info(), duplicated(), isna() можно сделать вывод, что данные в целом корректны, не содержат дубликатов и пропусков. Для удобства дальнейшего анализа все предоставленные данные были объединены в один датафрейм df методом merge(), пропуски обработаны.\n",
    "\n",
    "**Исследовательский анализ данных**\n",
    "\n",
    "Был произведен анализ данных следующим образом:\n",
    "\n",
    "- был построен график распределения для столбца TotalCharges отдельно для мужчин и женщин, из которого можно заключить, что значения столбца TotalCharges очень схожи у мужчин и женщин, выполним проверку данной гипотезы с помощью метода ttest_ind(). H0 -- выборки не имеют значимых различий, H1 -- выборки имеют значимые различия. Результат:\n",
    "    - p-значение: 0.9999330745474897\n",
    "    - Не получилось отвергнуть нулевую гипотезу\n",
    "- было произведено сравнение распределения величин MonthlyCharges всех клиентов и тех, кто ушёл. По графику видно, что значения столбца MonthlyCharges очень схожи у мужчин и у женщин, выполним проверку данной гипотезы с помощью метода ttest_ind(). H0 -- выборки не имеют значимых различий, H1 -- выборки имеют значимые различия. Результат:\n",
    "    - p-значение: 3.994559654770608e-10\n",
    "    - Отвергаем нулевую гипотезу\n",
    "- были рассмотрены различия TotalCharges в зависимости от Type и PaymentMethod, по графику можно заметить, что превалирует по большей части облата через Electronic chek и что, как и ожидалось, наибольший TotalCharges у типа подписки Two year\n",
    "- было рассмотрено, как колличественные признаки (MonthlyCharges, TotalCharges, DayLong) коррелируют между собой с помощью метода corr(). В итоге, признаки MonthlyCharges и TotalCharges достаточно сильно коррелируют, что ухудшит в дальнейшем обучение моделей, поэтому удалим признак MonthlyCharges.\n",
    "\n",
    "**Обучение моделей и подбор гиперпараметров**\n",
    "\n",
    "В результате обучения различных моделей на резличных гиперпараметрах были получены следующие результаты:\n",
    "\n",
    "- DecisionTreeClassifier на увеличенной выборке:\n",
    "    - Best depth: 7\n",
    "    - Best AUC-ROC: 0.8424063136772205\n",
    "    - accuracy: 0.7315340909090909\n",
    "- RandomForestClassifier на учеличенной сбалансированной выборке:\n",
    "    - Best depth: 11\n",
    "    - Best est: 20\n",
    "    - Best AUC-ROC: 0.8613659636529132\n",
    "    - accuracy: 0.7769886363636364\n",
    "- LogisticRegression на сбалансированной автоматически выборке:\n",
    "    - AUC-ROC: 0.8254326172178033\n",
    "    - accuracy: 0.7244318181818182\n",
    "- CatBoostClassifier:\n",
    "    - Best depth: 6\n",
    "    - Best est: 151\n",
    "    - Best AUC-ROC: 0.9040743077607338\n",
    "    - accuracy: 0.8536931818181818\n",
    "    \n",
    "По результатам обучения данных моделей можно заключить, что наилучшая из них -- это CatBoostClassifier, которую мы далее возьмемся обучать на тестовых данных, а наихудший результат показала модель LogisticRegression.\n",
    "\n",
    "**Тестирование лучшей модели**\n",
    "\n",
    "В результате тестирования модели CatBoostClassifier на лучших гиперпараметрах получаем следующие результаты:\n",
    "\n",
    "- AUC-ROC: 0.8963981169863523\n",
    "- accuracy: 0.8482269503546099\n",
    "\n",
    "Видим, что модель работает достаточно качественно.\n",
    "\n",
    "Таким образом задача проекта была выполненна, а цель достигнута."
   ]
  },
  {
   "cell_type": "markdown",
   "metadata": {},
   "source": [
    "## Отчет"
   ]
  },
  {
   "cell_type": "markdown",
   "metadata": {},
   "source": [
    "План проекта был следающим:\n",
    "\n",
    "1) рассмотреть модель 'DecisionTreeClassifier' на различных гиперпараметрах\n",
    "\n",
    "2) рассмотреть модель 'RandomForestClassifier' на различных гиперпараметрах\n",
    "\n",
    "3) рассмотреть модель 'LogisticRegression' на различных гиперпараметрах\n",
    "\n",
    "В процессе решения задачи проекта были выполненны все пункты предварительного плана, но так как итоговая метрика не давала желаемых показателей была дополнительно рассмотрена модель градиентного бустинга CatBoostClassifier, которая и привела к наилучшему результату. Дополнительно хочется отметить работу с мультиколлинеарностью колличественных признаков и выявлении необходимого признака (длительность) из первоначальной даты.\n",
    "\n",
    "В итоге, работа состоит из подготовки данных, т е выявления дополнительных признаков и удалении ненужных, исследованию данных с проверкой некоторых гипетез, и исследовании обучения различных моделей.\n",
    "\n",
    "В результате анализа обучения моделей, наилучший результат показала модель CatBoostClassifier со следующими гиперпараметрами:\n",
    "- Best depth: 6\n",
    "- Best est: 151\n",
    "- Best AUC-ROC: 0.9040743077607338\n",
    "- accuracy: 0.8536931818181818\n",
    "\n",
    "Данная модель была протестированная на тестовых данных, был получен следующий результат:\n",
    "\n",
    "- AUC-ROC: 0.8963981169863523\n",
    "- accuracy: 0.8482269503546099"
   ]
  }
 ],
 "metadata": {
  "ExecuteTimeLog": [
   {
    "duration": 101,
    "start_time": "2021-10-01T06:29:29.480Z"
   }
  ],
  "kernelspec": {
   "display_name": "Python 3",
   "language": "python",
   "name": "python3"
  },
  "language_info": {
   "codemirror_mode": {
    "name": "ipython",
    "version": 3
   },
   "file_extension": ".py",
   "mimetype": "text/x-python",
   "name": "python",
   "nbconvert_exporter": "python",
   "pygments_lexer": "ipython3",
   "version": "3.8.8"
  },
  "toc": {
   "base_numbering": 1,
   "nav_menu": {},
   "number_sections": true,
   "sideBar": true,
   "skip_h1_title": true,
   "title_cell": "Table of Contents",
   "title_sidebar": "Contents",
   "toc_cell": false,
   "toc_position": {},
   "toc_section_display": true,
   "toc_window_display": true
  }
 },
 "nbformat": 4,
 "nbformat_minor": 2
}
